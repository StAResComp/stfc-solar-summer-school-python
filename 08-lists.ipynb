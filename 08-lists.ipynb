{
 "cells": [
  {
   "cell_type": "markdown",
   "id": "46db13ea",
   "metadata": {},
   "source": [
    "# Lists"
   ]
  },
  {
   "cell_type": "markdown",
   "id": "6942a12a-4074-43c7-b161-a67a41670ca2",
   "metadata": {},
   "source": [
    "## A list stores many values in a single structure.\n",
    "\n",
    "- Doing calculations with a hundred variables called `pressure_001`, `pressure_002`, etc., would be at least as slow as doing them by hand.\n",
    "- Use a `list` to store many values together.\n",
    "  - Contained within square brackets `[...]`.\n",
    "  - Values separated by commas `,`.\n",
    "- Use `len` to find out how many values are in a list."
   ]
  },
  {
   "cell_type": "code",
   "execution_count": null,
   "id": "30ea2152-a1ef-497e-a030-8ba6f69b6e50",
   "metadata": {
    "tags": []
   },
   "outputs": [],
   "source": [
    "pressures = [0.273, 0.275, 0.277, 0.275, 0.276]\n",
    "print('pressures:', pressures)\n",
    "print('length:', len(pressures))"
   ]
  },
  {
   "cell_type": "markdown",
   "id": "9934452b-ca44-4678-9537-bf38fd58f405",
   "metadata": {},
   "source": [
    "## Use an item’s index to fetch it from a list."
   ]
  },
  {
   "cell_type": "code",
   "execution_count": null,
   "id": "933751c8-fef0-4737-b191-4a8c086a1fae",
   "metadata": {
    "tags": []
   },
   "outputs": [],
   "source": [
    "print('zeroth item of pressures:', pressures[0])\n",
    "print('fourth item of pressures:', pressures[4])"
   ]
  },
  {
   "cell_type": "markdown",
   "id": "256cb6af-6750-494d-90e5-511715f84875",
   "metadata": {},
   "source": [
    "## Lists’ values can be replaced by assigning to them."
   ]
  },
  {
   "cell_type": "code",
   "execution_count": null,
   "id": "079119a6-0ac6-4bda-bd07-f9a2699d2374",
   "metadata": {
    "tags": []
   },
   "outputs": [],
   "source": [
    "pressures[0] = 0.265\n",
    "print('pressures is now:', pressures)"
   ]
  },
  {
   "cell_type": "markdown",
   "id": "20adfd10-7930-4da9-a61e-39c25f95f6ae",
   "metadata": {},
   "source": [
    "## Appending items to a list lengthens it."
   ]
  },
  {
   "cell_type": "markdown",
   "id": "57fc6641-97cf-408d-a5da-efc41894b478",
   "metadata": {},
   "source": [
    "Use `list_name.append` to add items to the end of a list."
   ]
  },
  {
   "cell_type": "code",
   "execution_count": null,
   "id": "1e1dd42c-ac39-45ee-a1e7-a114d7d62f64",
   "metadata": {
    "tags": []
   },
   "outputs": [],
   "source": [
    "primes = [2, 3, 5]\n",
    "print('primes is initially:', primes)\n",
    "primes.append(7)\n",
    "print('primes has become:', primes)"
   ]
  },
  {
   "cell_type": "markdown",
   "id": "fa14be42-67c3-4eab-8faa-807def156c71",
   "metadata": {},
   "source": [
    "- `append` is a _method_ of lists.\n",
    "  - Like a function, but tied to a particular object.\n",
    "- Use `object_name.method_name` to call methods.\n",
    "  - Deliberately resembles the way we refer to things in a library.\n",
    "- We will meet other methods of lists as we go along.\n",
    "  - Use `help(list)` for a preview.\n",
    "- `extend` is similar to `append`, but it allows you to combine two lists. For example:"
   ]
  },
  {
   "cell_type": "code",
   "execution_count": null,
   "id": "19a1f6d9-9957-410a-87d3-493fde4e0289",
   "metadata": {
    "tags": []
   },
   "outputs": [],
   "source": [
    "teen_primes = [11, 13, 17, 19]\n",
    "middle_aged_primes = [37, 41, 43, 47]\n",
    "print('primes is currently:', primes)\n",
    "primes.extend(teen_primes)\n",
    "print('primes has now become:', primes)\n",
    "primes.append(middle_aged_primes)\n",
    "print('primes has finally become:', primes)"
   ]
  },
  {
   "cell_type": "markdown",
   "id": "a5d643a9-f224-4a02-8dc5-2c46adb90dd3",
   "metadata": {},
   "source": [
    "Note that while `extend` maintains the “flat” structure of the list, appending a list to a list means the last element in `primes` will itself be a list, not an integer. Lists can contain values of any type; therefore, lists of lists are possible."
   ]
  },
  {
   "cell_type": "markdown",
   "id": "371060be-5b52-4e4c-a552-881ffe56f535",
   "metadata": {},
   "source": [
    "## Use del to remove items from a list entirely.\n",
    "\n",
    "- We use `del list_name[index]` to remove an element from a list (in the example, 9 is not a prime number) and thus shorten it.\n",
    "- `del` is not a function or a method, but a statement in the language."
   ]
  },
  {
   "cell_type": "code",
   "execution_count": null,
   "id": "2f4232f3-cfd0-4e64-9e14-1a8c963abb5f",
   "metadata": {
    "tags": []
   },
   "outputs": [],
   "source": [
    "primes = [2, 3, 5, 7, 9]\n",
    "print('primes before removing last item:', primes)\n",
    "del primes[4]\n",
    "print('primes after removing last item:', primes)"
   ]
  },
  {
   "cell_type": "markdown",
   "id": "85b3ca2c-e128-47a5-bc69-e4ec8118e177",
   "metadata": {},
   "source": [
    "## The empty list contains no values.\n",
    "\n",
    "- Use `[]` on its own to represent a list that doesn’t contain any values.\n",
    "  - “The zero of lists.”\n",
    "- Helpful as a starting point for collecting values (which we will see in the next part of the lesson)."
   ]
  },
  {
   "cell_type": "markdown",
   "id": "763a3a4f-1b27-4759-b956-798029de13ee",
   "metadata": {},
   "source": [
    "## Lists may contain values of different types.\n",
    "\n",
    "A single list may contain numbers, strings, and anything else."
   ]
  },
  {
   "cell_type": "code",
   "execution_count": null,
   "id": "724ce147-8b68-4d83-a554-ed687e4ba8e7",
   "metadata": {
    "tags": []
   },
   "outputs": [],
   "source": [
    "goals = [1, 'Create lists.', 2, 'Extract items from lists.', 3, 'Modify lists.']"
   ]
  },
  {
   "cell_type": "markdown",
   "id": "0184e137-bf5d-4eb8-b6c6-e23d8670fd09",
   "metadata": {},
   "source": [
    "## Character strings can be indexed like lists."
   ]
  },
  {
   "cell_type": "code",
   "execution_count": null,
   "id": "4d5a4546-5c6f-4957-883d-85c26450f1d4",
   "metadata": {
    "tags": []
   },
   "outputs": [],
   "source": [
    "element = 'carbon'\n",
    "print('zeroth character:', element[0])\n",
    "print('third character:', element[3])"
   ]
  },
  {
   "cell_type": "markdown",
   "id": "340a384d-a3f3-4f45-a1b9-b589af204de4",
   "metadata": {},
   "source": [
    "## Character strings are immutable."
   ]
  },
  {
   "cell_type": "markdown",
   "id": "d4385d8f-48b8-410b-8f3b-3618b6c0ec52",
   "metadata": {},
   "source": [
    "- Cannot change the characters in a string after it has been created.\n",
    "  - _Immutable_: can’t be changed after creation.\n",
    "  - In contrast, lists are _mutable_: they can be modified in place.\n",
    "- Python considers the string to be a single value with parts, not a collection of values."
   ]
  },
  {
   "cell_type": "code",
   "execution_count": null,
   "id": "16e088c1-08af-4a05-9ea7-5d84f937510c",
   "metadata": {
    "tags": []
   },
   "outputs": [],
   "source": [
    "element[0] = 'C'"
   ]
  },
  {
   "cell_type": "markdown",
   "id": "a80f0bda-17c7-45d4-8412-3cb824969d35",
   "metadata": {},
   "source": [
    "- Lists and character strings are both _collections_."
   ]
  },
  {
   "cell_type": "markdown",
   "id": "6059b8bd-833c-4c61-8137-5566bbbe384a",
   "metadata": {},
   "source": [
    "## Indexing beyond the end of the collection is an error.\n",
    "\n",
    "- Python reports an `IndexError` if we attempt to access a value that doesn’t exist.\n",
    "  - This is a kind of [runtime error](http://swcarpentry.github.io/python-novice-gapminder/04-built-in.html).\n",
    "  - Cannot be detected as the code is parsed because the index might be calculated based on data."
   ]
  },
  {
   "cell_type": "markdown",
   "id": "2f81758c-e4ef-4508-89c5-46951adade3c",
   "metadata": {},
   "source": [
    "## Key Points\n",
    "\n",
    "- **A list stores many values in a single structure.**\n",
    "- **Use an item’s index to fetch it from a list.**\n",
    "- **Lists’ values can be replaced by assigning to them.**\n",
    "- **Appending items to a list lengthens it.**\n",
    "- **Use `del` to remove items from a list entirely.**\n",
    "- **The empty list contains no values.**\n",
    "- **Lists may contain values of different types.**\n",
    "- **Character strings can be indexed like lists.**\n",
    "- **Character strings are immutable.**\n",
    "- **Indexing beyond the end of the collection is an error.**"
   ]
  },
  {
   "cell_type": "code",
   "execution_count": null,
   "id": "9c13f0bd-93bb-40a1-bd55-39722cb0a57e",
   "metadata": {},
   "outputs": [],
   "source": []
  }
 ],
 "metadata": {
  "kernelspec": {
   "display_name": "Python 3 (ipykernel)",
   "language": "python",
   "name": "python3"
  },
  "language_info": {
   "codemirror_mode": {
    "name": "ipython",
    "version": 3
   },
   "file_extension": ".py",
   "mimetype": "text/x-python",
   "name": "python",
   "nbconvert_exporter": "python",
   "pygments_lexer": "ipython3",
   "version": "3.10.12"
  }
 },
 "nbformat": 4,
 "nbformat_minor": 5
}

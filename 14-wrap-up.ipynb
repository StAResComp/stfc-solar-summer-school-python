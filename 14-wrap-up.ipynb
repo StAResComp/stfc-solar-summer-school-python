{
 "cells": [
  {
   "cell_type": "markdown",
   "id": "8ccf622c",
   "metadata": {},
   "source": [
    "# Wrap-up"
   ]
  },
  {
   "cell_type": "markdown",
   "id": "7ec59188-5057-47f0-9e84-646200bc0be3",
   "metadata": {},
   "source": [
    "## Python supports a large and diverse community across academia and industry.\n",
    "\n",
    "- The [Python 3 documentation](https://docs.python.org/3/) covers the core language and the standard library.\n",
    "- [PyCon](https://pycon.org/) is the largest annual conference for the Python community.\n",
    "- [SciPy](https://scipy.org/) is a rich collection of scientific utilities. It is also the name of [a series of annual conferences](https://conference.scipy.org/).\n",
    "- [Jupyter](https://jupyter.org/) is the home of Project Jupyter.\n",
    "- [Pandas](https://pandas.pydata.org/) is the home of the Pandas data library.\n",
    "- Stack Overflow’s [general Python section](https://stackoverflow.com/questions/tagged/python?tab=Votes) can be helpful, as well as the sections on [NumPy](https://stackoverflow.com/questions/tagged/numpy?tab=Votes), [SciPy](https://stackoverflow.com/questions/tagged/scipy?tab=Votes), and [Pandas](https://stackoverflow.com/questions/tagged/pandas?tab=Votes)."
   ]
  },
  {
   "cell_type": "code",
   "execution_count": null,
   "id": "e19d0af5-c1dc-4740-b800-8792f19846e8",
   "metadata": {},
   "outputs": [],
   "source": []
  }
 ],
 "metadata": {
  "kernelspec": {
   "display_name": "Python 3 (ipykernel)",
   "language": "python",
   "name": "python3"
  },
  "language_info": {
   "codemirror_mode": {
    "name": "ipython",
    "version": 3
   },
   "file_extension": ".py",
   "mimetype": "text/x-python",
   "name": "python",
   "nbconvert_exporter": "python",
   "pygments_lexer": "ipython3",
   "version": "3.10.12"
  }
 },
 "nbformat": 4,
 "nbformat_minor": 5
}

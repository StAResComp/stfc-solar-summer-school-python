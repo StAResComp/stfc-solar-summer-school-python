{
 "cells": [
  {
   "cell_type": "markdown",
   "id": "5eecc485",
   "metadata": {},
   "source": [
    "# Conditionals"
   ]
  },
  {
   "cell_type": "markdown",
   "id": "1e05c2b2-91c4-4a50-993a-72efb599bbc7",
   "metadata": {},
   "source": [
    "## Use `if` statements to control whether or not a block of code is executed.\n",
    "\n",
    "- An `if` statement (more properly called a _conditional_ statement) controls whether some block of code is executed or not.\n",
    "- Structure is similar to a `for` statement:\n",
    "  - First line opens with `if` and ends with a colon\n",
    "  - Body containing one or more statements is indented (usually by 4 spaces)"
   ]
  },
  {
   "cell_type": "code",
   "execution_count": null,
   "id": "7bda982b-5a1e-47e0-ae72-d9f80d5b962f",
   "metadata": {
    "tags": []
   },
   "outputs": [],
   "source": [
    "mass = 3.54\n",
    "if mass > 3.0:\n",
    "    print(mass, 'is large')\n",
    "\n",
    "mass = 2.07\n",
    "if mass > 3.0:\n",
    "    print (mass, 'is large')"
   ]
  },
  {
   "cell_type": "markdown",
   "id": "f561ce0b-e6ed-44c1-8a90-e6e505d7ca91",
   "metadata": {},
   "source": [
    "## Conditionals are often used inside loops."
   ]
  },
  {
   "cell_type": "markdown",
   "id": "0b4723a7-b5e1-4ebd-a3f1-fc4654f24cc8",
   "metadata": {},
   "source": [
    "- Not much point using a conditional when we know the value (as above).\n",
    "- But useful when we have a collection to process."
   ]
  },
  {
   "cell_type": "code",
   "execution_count": null,
   "id": "ee6cccee-bfd7-4abe-9d32-eaa55d862bf4",
   "metadata": {
    "tags": []
   },
   "outputs": [],
   "source": [
    "masses = [3.54, 2.07, 9.22, 1.86, 1.71]\n",
    "for m in masses:\n",
    "    if m > 3.0:\n",
    "        print(m, 'is large')"
   ]
  },
  {
   "cell_type": "markdown",
   "id": "40bc633a-2159-4034-86ef-24fa532ad492",
   "metadata": {},
   "source": [
    "## Use `else` to execute a block of code when an `if` condition is _not_ true."
   ]
  },
  {
   "cell_type": "markdown",
   "id": "81cd5764-6dd7-4e58-b5a1-db2b31085ecf",
   "metadata": {},
   "source": [
    "- `else` can be used following an `if`.\n",
    "- Allows us to specify an alternative to execute when the `if` _branch_ isn’t taken."
   ]
  },
  {
   "cell_type": "code",
   "execution_count": null,
   "id": "6db277ee-3e2c-4af7-b8d3-95df5ed38170",
   "metadata": {
    "tags": []
   },
   "outputs": [],
   "source": [
    "masses = [3.54, 2.07, 9.22, 1.86, 1.71]\n",
    "for m in masses:\n",
    "    if m > 3.0:\n",
    "        print(m, 'is large')\n",
    "    else:\n",
    "        print(m, 'is small')"
   ]
  },
  {
   "cell_type": "markdown",
   "id": "34a747e1-355e-43ef-8c8d-ff8e140d60ef",
   "metadata": {},
   "source": [
    "## Use `elif` to specify additional tests.\n",
    "\n",
    "- May want to provide several alternative choices, each with its own test.\n",
    "- Use `elif` (short for “else if”) and a condition to specify these.\n",
    "- Always associated with an `if`.\n",
    "- Must come before the `else` (which is the “catch all”)."
   ]
  },
  {
   "cell_type": "code",
   "execution_count": null,
   "id": "b91bfb87-52e0-430d-b723-568dca179621",
   "metadata": {
    "tags": []
   },
   "outputs": [],
   "source": [
    "masses = [3.54, 2.07, 9.22, 1.86, 1.71]\n",
    "for m in masses:\n",
    "    if m > 9.0:\n",
    "        print(m, 'is HUGE')\n",
    "    elif m > 3.0:\n",
    "        print(m, 'is large')\n",
    "    else:\n",
    "        print(m, 'is small')"
   ]
  },
  {
   "cell_type": "markdown",
   "id": "84084eb7-21ba-4abb-971f-7457b5e8c0ca",
   "metadata": {},
   "source": [
    "## Conditions are tested once, in order.\n",
    "\n",
    "- Python steps through the branches of the conditional in order, testing each in turn.\n",
    "- So ordering matters."
   ]
  },
  {
   "cell_type": "code",
   "execution_count": null,
   "id": "8a9f8410-d0a8-4c2e-a457-25dde4400540",
   "metadata": {
    "tags": []
   },
   "outputs": [],
   "source": [
    "grade = 85\n",
    "if grade >= 70:\n",
    "    print('grade is C')\n",
    "elif grade >= 80:\n",
    "    print('grade is B')\n",
    "elif grade >= 90:\n",
    "    print('grade is A')"
   ]
  },
  {
   "cell_type": "markdown",
   "id": "2429beda-79dc-441c-9ec0-d9a3fa36138c",
   "metadata": {},
   "source": [
    "- Does _not_ automatically go back and re-evaluate if values change."
   ]
  },
  {
   "cell_type": "code",
   "execution_count": null,
   "id": "b5db057c-e693-4e97-87b2-88193755ec27",
   "metadata": {
    "tags": []
   },
   "outputs": [],
   "source": [
    "velocity = 10.0\n",
    "if velocity > 20.0:\n",
    "    print('moving too fast')\n",
    "else:\n",
    "    print('adjusting velocity')\n",
    "    velocity = 50.0"
   ]
  },
  {
   "cell_type": "markdown",
   "id": "87e382a1-aeaa-4e2c-a181-1793886384c0",
   "metadata": {},
   "source": [
    "- Often use conditionals in a loop to “evolve” the values of variables."
   ]
  },
  {
   "cell_type": "code",
   "execution_count": null,
   "id": "5636dc9c-f673-422c-a906-a62d6e5a714a",
   "metadata": {
    "tags": []
   },
   "outputs": [],
   "source": [
    "velocity = 10.0\n",
    "for i in range(5): # execute the loop 5 times\n",
    "    print(i, ':', velocity)\n",
    "    if velocity > 20.0:\n",
    "        print('moving too fast')\n",
    "        velocity = velocity - 5.0\n",
    "    else:\n",
    "        print('moving too slow')\n",
    "        velocity = velocity + 10.0\n",
    "print('final velocity:', velocity)"
   ]
  },
  {
   "cell_type": "markdown",
   "id": "8ca59e75-8b6a-48d3-8493-3e931fb52122",
   "metadata": {},
   "source": [
    "## Key Points\n",
    "\n",
    "- **Use `if` statements to control whether or not a block of code is executed.**\n",
    "- **Conditionals are often used inside loops.**\n",
    "- **Use `else` to execute a block of code when an `if` condition is _not_ true.**\n",
    "- **Use `elif` to specify additional tests.**\n",
    "- **Conditions are tested once, in order.**\n",
    "- **Create a table showing variables’ values to trace a program’s execution.**"
   ]
  },
  {
   "cell_type": "code",
   "execution_count": null,
   "id": "f008d44d-3764-455f-b73d-671cde931dd3",
   "metadata": {},
   "outputs": [],
   "source": []
  }
 ],
 "metadata": {
  "kernelspec": {
   "display_name": "Python 3 (ipykernel)",
   "language": "python",
   "name": "python3"
  },
  "language_info": {
   "codemirror_mode": {
    "name": "ipython",
    "version": 3
   },
   "file_extension": ".py",
   "mimetype": "text/x-python",
   "name": "python",
   "nbconvert_exporter": "python",
   "pygments_lexer": "ipython3",
   "version": "3.10.12"
  }
 },
 "nbformat": 4,
 "nbformat_minor": 5
}

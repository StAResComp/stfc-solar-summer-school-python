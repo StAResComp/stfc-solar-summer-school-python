{
 "cells": [
  {
   "cell_type": "markdown",
   "id": "c83a7d7d",
   "metadata": {},
   "source": [
    "# Variables and Assignment"
   ]
  },
  {
   "cell_type": "markdown",
   "id": "670339a6-f70c-4be6-88d9-85a62f66bd42",
   "metadata": {},
   "source": [
    "## Use variables to store values\n",
    "\n",
    "- *Variables* are names for values.\n",
    "- Variable names\n",
    "  - can only contain letters, digits, and underscore _ (typically used to separate words in long variable names)\n",
    "  - cannot start with a digit\n",
    "  - are case sensitive (`age`, `Age` and `AGE` are three different variables)\n",
    "- The name should also be meaningful so you or another programmer know what it is\n",
    "- Variable names that start with underscores like `\\__alistairs_real_age` have a special meaning so we won’t do that until we understand the convention.\n",
    "- In Python the `=` symbol assigns the value on the right to the name on the left.\n",
    "- The variable is created when a value is assigned to it.\n",
    "- Here, Python assigns an age to a variable `age` and a name in quotes to a variable `first_name`."
   ]
  },
  {
   "cell_type": "code",
   "execution_count": 2,
   "id": "fc8995f7-515a-476d-aece-a15796fceb60",
   "metadata": {
    "tags": []
   },
   "outputs": [],
   "source": [
    "age = 42\n",
    "first_name = 'Ahmed'"
   ]
  },
  {
   "cell_type": "markdown",
   "id": "72f6a7ca-067a-47d8-8966-8fe11fec97f4",
   "metadata": {},
   "source": [
    "## Use `print` to display values\n",
    "- Python has a built-in *function* called `print` that prints things as text.\n",
    "- *Call* the function (i.e., tell Python to run it) by using its name.\n",
    "- Provide values to the function (i.e., the things to print) in parentheses.\n",
    "- To add a string to the printout, wrap the string in single or double quotes.\n",
    "- The values passed to the function are called *arguments*"
   ]
  },
  {
   "cell_type": "code",
   "execution_count": 3,
   "id": "36200ff2-1441-4b54-a1f5-aae053dcf2ee",
   "metadata": {
    "tags": []
   },
   "outputs": [
    {
     "name": "stdout",
     "output_type": "stream",
     "text": [
      "Ahmed is 42 years old\n"
     ]
    }
   ],
   "source": [
    "print(first_name, 'is', age, 'years old')"
   ]
  },
  {
   "cell_type": "markdown",
   "id": "99a3a73f-a18d-4562-8542-93694938e273",
   "metadata": {},
   "source": [
    "- `print` automatically puts a single space between items to separate them.\n",
    "- And wraps around to a new line at the end."
   ]
  },
  {
   "cell_type": "markdown",
   "id": "918b19c3-8b61-4ccc-8d41-042a0349c257",
   "metadata": {},
   "source": [
    "## Variables must be created before they are used."
   ]
  },
  {
   "cell_type": "code",
   "execution_count": 4,
   "id": "963253ff-4246-4301-9bf0-9323bdb07013",
   "metadata": {
    "tags": []
   },
   "outputs": [
    {
     "ename": "NameError",
     "evalue": "name 'last_name' is not defined",
     "output_type": "error",
     "traceback": [
      "\u001b[0;31m---------------------------------------------------------------------------\u001b[0m",
      "\u001b[0;31mNameError\u001b[0m                                 Traceback (most recent call last)",
      "Cell \u001b[0;32mIn[4], line 1\u001b[0m\n\u001b[0;32m----> 1\u001b[0m \u001b[38;5;28mprint\u001b[39m(\u001b[43mlast_name\u001b[49m)\n",
      "\u001b[0;31mNameError\u001b[0m: name 'last_name' is not defined"
     ]
    }
   ],
   "source": [
    "print(last_name)"
   ]
  },
  {
   "cell_type": "markdown",
   "id": "0abd8958-1b0d-4184-8f4b-bd9f2407b08c",
   "metadata": {},
   "source": [
    "The last line of an error message is usually the most informative.\n",
    "\n",
    "Be aware that it is the order of execution of cells that is important in a Jupyter notebook, not the order in which they appear."
   ]
  },
  {
   "cell_type": "markdown",
   "id": "39905179-966d-43a6-9e8e-ff4f7703834a",
   "metadata": {},
   "source": [
    "## Variables can be used in calculations.\n",
    "We can use variables in calculations just as if they were values.\n",
    "- Remember, we assigned the value 42 to age a few lines ago."
   ]
  },
  {
   "cell_type": "code",
   "execution_count": 5,
   "id": "a8f0ecfd-54a9-47e5-9c3c-c55d6c6590f2",
   "metadata": {
    "tags": []
   },
   "outputs": [
    {
     "name": "stdout",
     "output_type": "stream",
     "text": [
      "Age in three years: 45\n"
     ]
    }
   ],
   "source": [
    "age = age + 3\n",
    "print('Age in three years:', age)"
   ]
  },
  {
   "cell_type": "code",
   "execution_count": null,
   "id": "1dbcfa5c-98bb-44c1-b11f-2527fbddf5f5",
   "metadata": {},
   "outputs": [],
   "source": []
  }
 ],
 "metadata": {
  "kernelspec": {
   "display_name": "Python 3 (ipykernel)",
   "language": "python",
   "name": "python3"
  },
  "language_info": {
   "codemirror_mode": {
    "name": "ipython",
    "version": 3
   },
   "file_extension": ".py",
   "mimetype": "text/x-python",
   "name": "python",
   "nbconvert_exporter": "python",
   "pygments_lexer": "ipython3",
   "version": "3.10.12"
  }
 },
 "nbformat": 4,
 "nbformat_minor": 5
}

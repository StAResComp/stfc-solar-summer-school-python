{
 "cells": [
  {
   "cell_type": "markdown",
   "id": "c83a7d7d",
   "metadata": {},
   "source": [
    "# Variables and Assignment"
   ]
  },
  {
   "cell_type": "markdown",
   "id": "670339a6-f70c-4be6-88d9-85a62f66bd42",
   "metadata": {},
   "source": [
    "## Use variables to store values\n",
    "\n",
    "- *Variables* are names for values.\n",
    "- Variable names\n",
    "  - can **only contain letters, digits, and underscore _** (typically used to separate words in long variable names)\n",
    "  - **cannot start with a digit**\n",
    "  - **are case sensitive** (`age`, `Age` and `AGE` are three different variables)\n",
    "- The name should also be **meaningful** so you or another programmer know what it is\n",
    "- Variable names that start with underscores like `__age` have a special meaning and should be avoided.\n",
    "- In Python **the `=` symbol assigns the value on the right to the name on the left**.\n",
    "- The variable is created when a value is assigned to it.\n",
    "- Here, Python assigns an age to a variable `age` and a name in quotes to a variable `first_name`."
   ]
  },
  {
   "cell_type": "code",
   "execution_count": null,
   "id": "fc8995f7-515a-476d-aece-a15796fceb60",
   "metadata": {
    "tags": []
   },
   "outputs": [],
   "source": [
    "age = 42\n",
    "first_name = 'Ahmed'"
   ]
  },
  {
   "cell_type": "markdown",
   "id": "72f6a7ca-067a-47d8-8966-8fe11fec97f4",
   "metadata": {},
   "source": [
    "## Use `print` to display values\n",
    "- Python has a built-in *function* called `print` that prints things as text.\n",
    "- *Call* the function (i.e., tell Python to run it) by using its name.\n",
    "- Provide values to the function (i.e., the things to print) in parentheses.\n",
    "- To add a string to the printout, wrap the string in single or double quotes.\n",
    "- The values passed to the function are called *arguments*"
   ]
  },
  {
   "cell_type": "code",
   "execution_count": null,
   "id": "36200ff2-1441-4b54-a1f5-aae053dcf2ee",
   "metadata": {
    "tags": []
   },
   "outputs": [],
   "source": [
    "print(first_name, 'is', age, 'years old')"
   ]
  },
  {
   "cell_type": "markdown",
   "id": "99a3a73f-a18d-4562-8542-93694938e273",
   "metadata": {},
   "source": [
    "- `print` automatically puts a single space between items to separate them.\n",
    "- And wraps around to a new line at the end."
   ]
  },
  {
   "cell_type": "markdown",
   "id": "918b19c3-8b61-4ccc-8d41-042a0349c257",
   "metadata": {},
   "source": [
    "## Variables must be created before they are used."
   ]
  },
  {
   "cell_type": "code",
   "execution_count": null,
   "id": "963253ff-4246-4301-9bf0-9323bdb07013",
   "metadata": {
    "tags": []
   },
   "outputs": [],
   "source": [
    "print(last_name)"
   ]
  },
  {
   "cell_type": "markdown",
   "id": "0abd8958-1b0d-4184-8f4b-bd9f2407b08c",
   "metadata": {},
   "source": [
    "The last line of an error message is usually the most informative (and the part you should copy and paste into Google - with double quotes around it).\n",
    "\n",
    "Be aware that it is the order of execution of cells that is important in a Jupyter notebook, not the order in which they appear."
   ]
  },
  {
   "cell_type": "markdown",
   "id": "39905179-966d-43a6-9e8e-ff4f7703834a",
   "metadata": {},
   "source": [
    "## Variables can be used in calculations.\n",
    "We can use variables in calculations just as if they were values.\n",
    "- Remember, we assigned the value 42 to age a few lines ago."
   ]
  },
  {
   "cell_type": "code",
   "execution_count": null,
   "id": "a8f0ecfd-54a9-47e5-9c3c-c55d6c6590f2",
   "metadata": {
    "tags": []
   },
   "outputs": [],
   "source": [
    "age = age + 3\n",
    "print('Age in three years:', age)"
   ]
  },
  {
   "cell_type": "markdown",
   "id": "aaa49e43-76e4-4233-b5e0-18c942158361",
   "metadata": {},
   "source": [
    "## Use an index to get a single character from a string.\n",
    "\n",
    "- The characters (individual letters, numbers, and so on) in a string are ordered. For example, the string 'AB' is not the same as 'BA'. Because of this ordering, **we can treat the string as a list of characters**.\n",
    "- Each position in the string (first, second, etc.) is given a number. This number is called an index. **Indices are numbered from 0**.\n",
    "- Use the position’s index in square brackets to get the character at that position."
   ]
  },
  {
   "cell_type": "code",
   "execution_count": null,
   "id": "9a31fad8-1584-48b9-8087-264582c7f619",
   "metadata": {
    "tags": []
   },
   "outputs": [],
   "source": [
    "atom_name = 'helium'\n",
    "print(atom_name[0])"
   ]
  },
  {
   "cell_type": "markdown",
   "id": "21bdc9b5-d8c2-4baa-848e-b131f23166b0",
   "metadata": {},
   "source": [
    "## Use a slice to get a substring.\n",
    "\n",
    "- A part of a string is called a substring. A substring can be as short as a single character.\n",
    "- An item in a list is called an element. Whenever we treat a string as if it were a list, the string’s elements are its individual characters.\n",
    "- A slice is a part of a string (or, more generally, a part of any list-like thing).\n",
    "- We take a slice with the notation **`[start:stop]`**, where **`start` is the integer index of the first element we want** and **`stop` is the integer index of the element _just after_ the last element we want**.\n",
    "- The difference between `stop` and `start` is the slice’s length.\n",
    "- Taking a slice does not change the contents of the original string. Instead, taking a slice returns a copy of part of the original string."
   ]
  },
  {
   "cell_type": "code",
   "execution_count": null,
   "id": "cb583061-f81f-4a64-ae5f-6208d66d249c",
   "metadata": {
    "tags": []
   },
   "outputs": [],
   "source": [
    "print(atom_name[0:3])"
   ]
  },
  {
   "cell_type": "markdown",
   "id": "cce19f07-dbbe-48df-bb94-80e2f0b6da9d",
   "metadata": {},
   "source": [
    "## Use the built-in function len to find the length of a string."
   ]
  },
  {
   "cell_type": "code",
   "execution_count": null,
   "id": "aa89a227-5db9-49e2-93e5-dc1aea008c42",
   "metadata": {
    "tags": []
   },
   "outputs": [],
   "source": [
    "print(len('helium'))"
   ]
  },
  {
   "cell_type": "markdown",
   "id": "332c5365-928c-4770-9537-404581864e3e",
   "metadata": {},
   "source": [
    "Nested functions are evaluated from the inside out, like in mathematics."
   ]
  },
  {
   "cell_type": "markdown",
   "id": "ca1e3691-b344-4619-8167-5ec36e688b47",
   "metadata": {},
   "source": [
    "## Key points.\n",
    "\n",
    "- **Use variables to store values.**\n",
    "- **Use print to display values.**\n",
    "- **Variables persist between cells.**\n",
    "- **Variables must be created before they are used.**\n",
    "- **Variables can be used in calculations.**\n",
    "- **Use an index to get a single character from a string.**\n",
    "- **Use a slice to get a substring.**\n",
    "- **Use the built-in function len to find the length of a string.**\n",
    "- **Python is case-sensitive.**\n",
    "- **Use meaningful variable names.**"
   ]
  }
 ],
 "metadata": {
  "kernelspec": {
   "display_name": "Python 3 (ipykernel)",
   "language": "python",
   "name": "python3"
  },
  "language_info": {
   "codemirror_mode": {
    "name": "ipython",
    "version": 3
   },
   "file_extension": ".py",
   "mimetype": "text/x-python",
   "name": "python",
   "nbconvert_exporter": "python",
   "pygments_lexer": "ipython3",
   "version": "3.10.12"
  }
 },
 "nbformat": 4,
 "nbformat_minor": 5
}

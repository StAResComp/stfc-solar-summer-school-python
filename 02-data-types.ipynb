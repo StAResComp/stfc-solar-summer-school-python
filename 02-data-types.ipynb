{
 "cells": [
  {
   "cell_type": "markdown",
   "id": "8d5337fe",
   "metadata": {},
   "source": [
    "# Data Types and Type Conversion"
   ]
  },
  {
   "cell_type": "markdown",
   "id": "a7e52a58-89fb-4596-8a5c-20515f1d7e07",
   "metadata": {},
   "source": [
    "## Every value has a type.\n",
    "\n",
    "- Every value in a program has a specific _type_.\n",
    "- Integer (`int`): represents positive or negative whole numbers like 3 or -512.\n",
    "- Floating point number (`float`): represents real numbers like 3.14159 or -2.5.\n",
    "- Character string (usually called “string”, `str`): text.\n",
    "  - Written in either single quotes or double quotes (as long as they match).\n",
    "  - The quote marks aren’t printed when the string is displayed."
   ]
  },
  {
   "cell_type": "markdown",
   "id": "24841809-62f1-4429-a926-872cf785637c",
   "metadata": {},
   "source": [
    "## Use the built-in function `type` to find the type of a value.\n",
    "\n",
    "- Use the built-in function `type` to find out what type a value has.\n",
    "- Works on variables as well.\n",
    "  - But remember: the _value_ has the type — the _variable_ is just a label."
   ]
  },
  {
   "cell_type": "code",
   "execution_count": null,
   "id": "681cfd41-34b8-48c8-84c1-9621ba4dc96a",
   "metadata": {
    "tags": []
   },
   "outputs": [],
   "source": [
    "print(type(52))"
   ]
  },
  {
   "cell_type": "code",
   "execution_count": null,
   "id": "e3f150dc-b27a-4372-9353-bcd7ebf6e2df",
   "metadata": {
    "tags": []
   },
   "outputs": [],
   "source": [
    "fitness = 'average'\n",
    "print(type(fitness))"
   ]
  },
  {
   "cell_type": "markdown",
   "id": "9ff3216c-3a8b-4729-a7c2-e68fc1298772",
   "metadata": {},
   "source": [
    "## Types control what operations (or methods) can be performed on a given value."
   ]
  },
  {
   "cell_type": "code",
   "execution_count": null,
   "id": "78703246-9187-46ff-a501-83a1701fd0eb",
   "metadata": {
    "tags": []
   },
   "outputs": [],
   "source": [
    "print(5 - 3)"
   ]
  },
  {
   "cell_type": "code",
   "execution_count": null,
   "id": "5ce61350-1733-4b74-b9bb-f985f0a53b39",
   "metadata": {
    "tags": []
   },
   "outputs": [],
   "source": [
    "print('hello' - 'h')"
   ]
  },
  {
   "cell_type": "markdown",
   "id": "85062b12-c2c6-4161-9546-ca936d99d73c",
   "metadata": {},
   "source": [
    "## You can use the `+` and `*` operators on strings.\n",
    "\n",
    "\"Adding\" character strings concatenates them."
   ]
  },
  {
   "cell_type": "code",
   "execution_count": null,
   "id": "048e7b1d-f0cf-4d38-b658-19e0724c7ed4",
   "metadata": {
    "tags": []
   },
   "outputs": [],
   "source": [
    "full_name = 'Ahmed' + ' ' + 'Walsh'\n",
    "print(full_name)"
   ]
  },
  {
   "cell_type": "markdown",
   "id": "071bfb44-e9a4-4712-b576-7e56dd1f6302",
   "metadata": {},
   "source": [
    "Multiplying a character string by an integer _N_ creates a new string that consists of that character string repeated _N_ times."
   ]
  },
  {
   "cell_type": "code",
   "execution_count": null,
   "id": "e4c97013-d05e-4bce-bef6-12ec59dcb6eb",
   "metadata": {
    "tags": []
   },
   "outputs": [],
   "source": [
    "separator = '=' * 10\n",
    "print(separator)"
   ]
  },
  {
   "cell_type": "markdown",
   "id": "6501ab8d-8cf0-4efc-9652-b4f29ae58e89",
   "metadata": {},
   "source": [
    "## Numbers don't have a length."
   ]
  },
  {
   "cell_type": "code",
   "execution_count": null,
   "id": "5cb992be-4b06-44b8-8c52-dd7cd36d9673",
   "metadata": {
    "tags": []
   },
   "outputs": [],
   "source": [
    "print(len(52))"
   ]
  },
  {
   "cell_type": "markdown",
   "id": "5ea7c53e-ab64-44bd-9dd1-51f569e81fda",
   "metadata": {},
   "source": [
    "## You can convert values to make them interoperable."
   ]
  },
  {
   "cell_type": "code",
   "execution_count": null,
   "id": "02f1928b-be39-445f-b6aa-94f05c04978f",
   "metadata": {
    "tags": []
   },
   "outputs": [],
   "source": [
    "print(1 + '2')"
   ]
  },
  {
   "cell_type": "markdown",
   "id": "f99a924e-ea17-44f0-8499-436f4482b50e",
   "metadata": {},
   "source": [
    "- Not allowed because it’s ambiguous: should `1 + '2'` be `3` or `'12'`?\n",
    "- Some types can be converted to other types by using the type name as a function."
   ]
  },
  {
   "cell_type": "code",
   "execution_count": null,
   "id": "16e75362-00a1-4bb3-bd54-9a63c5293433",
   "metadata": {
    "tags": []
   },
   "outputs": [],
   "source": [
    "print(1 + int('2'))\n",
    "print(str(1) + '2')"
   ]
  },
  {
   "cell_type": "markdown",
   "id": "c5ba7a9a-c7f9-4ad2-a949-33099d0ae815",
   "metadata": {},
   "source": [
    "## Can mix integers and floats freely in operations.\n",
    "\n",
    "Integers and floating-point numbers can be mixed in arithmetic. Python 3 automatically converts integers to floats as needed."
   ]
  },
  {
   "cell_type": "code",
   "execution_count": null,
   "id": "f8bc5160-b6d5-429c-a723-2a556a7e49ab",
   "metadata": {
    "tags": []
   },
   "outputs": [],
   "source": [
    "print('half is', 1 / 2.0)\n",
    "print('three squared is', 3.0 ** 2)"
   ]
  },
  {
   "cell_type": "markdown",
   "id": "09c58ece-1ef6-4a41-bea4-d328f1bcdf9c",
   "metadata": {},
   "source": [
    "## Variables only change value when something is assigned to them.\n",
    "\n",
    "If we make one cell in a spreadsheet depend on another, and update the latter, the former updates automatically.\n",
    "This does **not** happen in programming languages."
   ]
  },
  {
   "cell_type": "code",
   "execution_count": null,
   "id": "ef2f966d-833d-4235-ab62-a543453fcf92",
   "metadata": {
    "tags": []
   },
   "outputs": [],
   "source": [
    "variable_one = 1\n",
    "variable_two = 5 * variable_one\n",
    "variable_one = 2\n",
    "print('first is', variable_one, 'and second is', variable_two)"
   ]
  },
  {
   "cell_type": "markdown",
   "id": "dfbe0071-d303-4f1c-8e93-0bc680002a3e",
   "metadata": {},
   "source": [
    "The computer reads the value of `variable_one` when doing the multiplication, creates a new value, and assigns it to `variable_two`.\n",
    "Afterwards, the value of `variable_two` is set to the new value and not dependent on `variable_one` so its value does not automatically change when `variable_one` changes."
   ]
  },
  {
   "cell_type": "markdown",
   "id": "8cddb5ea-2d4a-4758-a354-5609818c7b23",
   "metadata": {},
   "source": [
    "## Complex numbers.\n",
    "\n",
    "Python provides complex numbers, which are written as `1.0+2.0j`. If `val` is a complex number, its real and imaginary parts can be accessed using _dot notation_ as `val.real` and `val.imag`."
   ]
  },
  {
   "cell_type": "code",
   "execution_count": null,
   "id": "dedd6ed4-3548-4000-8c64-3809819c1ef5",
   "metadata": {
    "tags": []
   },
   "outputs": [],
   "source": [
    "a_complex_number = 6 + 2j\n",
    "print(a_complex_number.real)\n",
    "print(a_complex_number.imag)"
   ]
  },
  {
   "cell_type": "markdown",
   "id": "f468093f-85c8-481f-afdd-532e32fc584e",
   "metadata": {},
   "source": [
    "## Key Points\n",
    "\n",
    "- **Every value has a type.**\n",
    "- **Use the built-in function `type` to find the type of a value.**\n",
    "- **Types control what operations can be done on values.**\n",
    "- **Strings can be added and multiplied.**\n",
    "- **Strings have a length (but numbers don’t).**\n",
    "- **Must convert numbers to strings or vice versa when operating on them.**\n",
    "- **Can mix integers and floats freely in operations.**\n",
    "- **Variables only change value when something is assigned to them.**"
   ]
  },
  {
   "cell_type": "code",
   "execution_count": null,
   "id": "0db6c6d4-101e-4f6a-b793-c9e9417e1620",
   "metadata": {},
   "outputs": [],
   "source": []
  },
  {
   "cell_type": "code",
   "execution_count": null,
   "id": "521629fa-12f5-4077-a38a-05da3e248fc7",
   "metadata": {},
   "outputs": [],
   "source": []
  }
 ],
 "metadata": {
  "kernelspec": {
   "display_name": "Python 3 (ipykernel)",
   "language": "python",
   "name": "python3"
  },
  "language_info": {
   "codemirror_mode": {
    "name": "ipython",
    "version": 3
   },
   "file_extension": ".py",
   "mimetype": "text/x-python",
   "name": "python",
   "nbconvert_exporter": "python",
   "pygments_lexer": "ipython3",
   "version": "3.10.12"
  }
 },
 "nbformat": 4,
 "nbformat_minor": 5
}

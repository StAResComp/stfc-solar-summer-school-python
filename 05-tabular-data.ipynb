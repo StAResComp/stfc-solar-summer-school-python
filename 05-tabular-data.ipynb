{
 "cells": [
  {
   "cell_type": "markdown",
   "id": "1552dbce",
   "metadata": {},
   "source": [
    "# Reading Tabular Data into DataFrames"
   ]
  },
  {
   "cell_type": "markdown",
   "id": "c178de7e-fcd2-4d5e-86e2-c3096b030161",
   "metadata": {},
   "source": [
    "## Getting data from CDAWeb using `sunpy`\n",
    "\n",
    "The Coordinated Data Analysis Web (CDAWeb) stores data from from current and past space physics missions, and is full of heliospheric insitu datasets.\n",
    "\n",
    "CDAWeb stores data from from current and past space physics missions, and is full of heliospheric insitu datasets.\n",
    "\n",
    "First, we need to install `sunpy` and a couple of other dependencies. In most Python environments the command would be `pip install <module>`, but we need to modify that slightly for it to work correctly in a Jupyter Notebook."
   ]
  },
  {
   "cell_type": "code",
   "execution_count": null,
   "id": "cb87d17a-aec7-4655-8923-b477eaa631cf",
   "metadata": {},
   "outputs": [],
   "source": [
    "# Install a pip package in the current Jupyter kernel\n",
    "import sys\n",
    "!{sys.executable} -m pip install sunpy drms cdflib zeep h5netcdf"
   ]
  },
  {
   "cell_type": "markdown",
   "id": "a73365a0-4c5a-4b9a-8a7e-b2cb969afe14",
   "metadata": {},
   "source": [
    "Now, we can import the modules we need from `sunpy`:"
   ]
  },
  {
   "cell_type": "code",
   "execution_count": null,
   "id": "43505550-3625-4abb-9e01-56ee00928be8",
   "metadata": {
    "tags": []
   },
   "outputs": [],
   "source": [
    "from sunpy.net import Fido\n",
    "from sunpy.net import attrs as a\n",
    "from sunpy.timeseries import TimeSeries"
   ]
  },
  {
   "cell_type": "markdown",
   "id": "1ac9e4d6-b32e-487f-9cbf-2aa2e772e211",
   "metadata": {},
   "source": [
    "`sunpy.net.Fido` is the primary interface to search for and download data and will automatically search CDAWeb when the `cdaweb.Dataset` attribute is provided to the search. To lookup the different dataset IDs available, you can use the form at https://cdaweb.gsfc.nasa.gov/index.html/."
   ]
  },
  {
   "cell_type": "code",
   "execution_count": null,
   "id": "73a679b7-23f9-4c1f-924e-a62fc81e8fd5",
   "metadata": {
    "tags": []
   },
   "outputs": [],
   "source": [
    "date_range = a.Time('2021/07/01', '2021/07/08')\n",
    "dataset = a.cdaweb.Dataset('SOLO_L2_MAG-RTN-NORMAL-1-MINUTE')\n",
    "result = Fido.search(date_range, dataset)"
   ]
  },
  {
   "cell_type": "markdown",
   "id": "26a3cd2a-6b9e-4a88-92b7-69cdd8b04a72",
   "metadata": {},
   "source": [
    "Let's inspect the results. We can see that there's seven files, one for each day within the query."
   ]
  },
  {
   "cell_type": "code",
   "execution_count": null,
   "id": "dcce26a2-e5dc-4c1c-a418-471b67d9235f",
   "metadata": {
    "tags": []
   },
   "outputs": [],
   "source": [
    "print(result)"
   ]
  },
  {
   "cell_type": "markdown",
   "id": "9a4b9fe0-ce97-48d8-9c28-1f3d2f2de8cd",
   "metadata": {},
   "source": [
    "We have something that looks a bit like a list of files from different providers. In our particular case, there is only one provider, so we can get the files from that:"
   ]
  },
  {
   "cell_type": "code",
   "execution_count": null,
   "id": "4ddb0240-5450-459b-b945-ccdaf2ec2a73",
   "metadata": {
    "tags": []
   },
   "outputs": [],
   "source": [
    "print(result[0])"
   ]
  },
  {
   "cell_type": "markdown",
   "id": "ca8ceb75-4b1a-4024-9c4a-eafde358d14a",
   "metadata": {},
   "source": [
    "But using a higher index results in an error - there are no files from any other providers."
   ]
  },
  {
   "cell_type": "code",
   "execution_count": null,
   "id": "efa1b0e7-abec-43e3-b258-972ea8c25f43",
   "metadata": {
    "tags": []
   },
   "outputs": [],
   "source": [
    "print(result[1])"
   ]
  },
  {
   "cell_type": "markdown",
   "id": "37ad10b6-83fe-40fd-8eac-7249a341df4c",
   "metadata": {},
   "source": [
    "We can look at the individual files in the set:"
   ]
  },
  {
   "cell_type": "code",
   "execution_count": null,
   "id": "60276852-7e21-45c8-af3e-1181480e928f",
   "metadata": {
    "tags": []
   },
   "outputs": [],
   "source": [
    "print(result[0,0])"
   ]
  },
  {
   "cell_type": "code",
   "execution_count": null,
   "id": "8a1a2a1d-e7de-496b-8018-65536dab9a50",
   "metadata": {
    "tags": []
   },
   "outputs": [],
   "source": [
    "print(result[0,1])"
   ]
  },
  {
   "cell_type": "markdown",
   "id": "b8f83f70-1d5d-47fb-9fe6-d465c37c8b21",
   "metadata": {
    "tags": []
   },
   "source": [
    "We can use a slice to view a subset of the files:"
   ]
  },
  {
   "cell_type": "code",
   "execution_count": null,
   "id": "df51d282-2e6e-41ec-8958-e19820162d4d",
   "metadata": {
    "tags": []
   },
   "outputs": [],
   "source": [
    "print(result[0,0:2])"
   ]
  },
  {
   "cell_type": "markdown",
   "id": "dfb1d1ea-134c-457b-977e-56c523a95b2e",
   "metadata": {},
   "source": [
    "We can use `Fido.fetch()` to download the contents of the specified files:"
   ]
  },
  {
   "cell_type": "code",
   "execution_count": null,
   "id": "97fe8c38-51b9-4570-ac7d-82edbc48d9f8",
   "metadata": {},
   "outputs": [],
   "source": [
    "downloaded_files = Fido.fetch(result[0, 0:2])"
   ]
  },
  {
   "cell_type": "markdown",
   "id": "25b1e49e-a42b-4d01-9337-0e0084cdd765",
   "metadata": {},
   "source": [
    "We can then concatenate the contents of those files in a more readily usable form using `TimeSeries`"
   ]
  },
  {
   "cell_type": "code",
   "execution_count": null,
   "id": "a68a33bb-db9e-4c95-ab65-d0c7b5af4eb7",
   "metadata": {
    "tags": []
   },
   "outputs": [],
   "source": [
    "solo_mag = TimeSeries(downloaded_files, concatenate=True)"
   ]
  },
  {
   "cell_type": "markdown",
   "id": "baacdeba-d6da-46c2-a905-07b3c9816282",
   "metadata": {},
   "source": [
    "Looking at the type of `solo_mag` we can see that it is of a type which is defined within sunpy. We can use `help()` to find out a bit more about it."
   ]
  },
  {
   "cell_type": "code",
   "execution_count": null,
   "id": "6d4a7b2d-83b3-49ad-afdc-9d7226ccc4ca",
   "metadata": {
    "tags": []
   },
   "outputs": [],
   "source": [
    "print(type(solo_mag))"
   ]
  },
  {
   "cell_type": "code",
   "execution_count": null,
   "id": "2f3fa19d-aa05-43b7-9130-80c3bdd2e620",
   "metadata": {
    "tags": []
   },
   "outputs": [],
   "source": [
    "import sunpy.timeseries\n",
    "help(sunpy.timeseries.timeseriesbase.GenericTimeSeries)"
   ]
  },
  {
   "cell_type": "markdown",
   "id": "28278e85-3919-47aa-9531-6929533692e5",
   "metadata": {},
   "source": [
    "One of the methods on `GenericTimeSeries` is `to_dataframe()`, which returns the data contained in the timeseries as a _Pandas dataframe_.\n",
    "\n",
    "Pandas is a very widely used data analysis library."
   ]
  },
  {
   "cell_type": "code",
   "execution_count": null,
   "id": "4c4c47f8-a1cf-43de-a815-67c2c985b15e",
   "metadata": {
    "tags": []
   },
   "outputs": [],
   "source": [
    "df = solo_mag.to_dataframe()\n",
    "type(df)"
   ]
  },
  {
   "cell_type": "markdown",
   "id": "f6805952-b7d8-4615-a9e7-2435ea6ecd80",
   "metadata": {},
   "source": [
    "A [DataFrame](https://pandas.pydata.org/pandas-docs/stable/generated/pandas.DataFrame.html) is a collection of [Series](https://pandas.pydata.org/pandas-docs/stable/generated/pandas.Series.html); The DataFrame is the way Pandas represents a table, and Series is the data-structure Pandas use to represent a column.\n",
    "\n",
    "Pandas is built on top of the [Numpy](https://www.numpy.org/) library, which in practice means that most of the methods defined for Numpy Arrays apply to Pandas Series/DataFrames.\n",
    "\n",
    "What makes Pandas so attractive is the powerful interface to access individual records of the table, proper handling of missing values, and relational-databases operations between DataFrames."
   ]
  },
  {
   "cell_type": "code",
   "execution_count": null,
   "id": "46d1ea77-3eaf-46d6-932c-f53fcf48c68c",
   "metadata": {},
   "outputs": [],
   "source": []
  }
 ],
 "metadata": {
  "kernelspec": {
   "display_name": "Python 3 (ipykernel)",
   "language": "python",
   "name": "python3"
  },
  "language_info": {
   "codemirror_mode": {
    "name": "ipython",
    "version": 3
   },
   "file_extension": ".py",
   "mimetype": "text/x-python",
   "name": "python",
   "nbconvert_exporter": "python",
   "pygments_lexer": "ipython3",
   "version": "3.10.12"
  }
 },
 "nbformat": 4,
 "nbformat_minor": 5
}

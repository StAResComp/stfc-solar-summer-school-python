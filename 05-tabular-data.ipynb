{
 "cells": [
  {
   "cell_type": "markdown",
   "id": "1552dbce",
   "metadata": {},
   "source": [
    "# Reading Tabular Data into DataFrames"
   ]
  },
  {
   "cell_type": "markdown",
   "id": "c178de7e-fcd2-4d5e-86e2-c3096b030161",
   "metadata": {},
   "source": [
    "## Getting data from CDAWeb using `sunpy`\n",
    "\n",
    "The Coordinated Data Analysis Web (CDAWeb) stores data from from current and past space physics missions, and is full of heliospheric insitu datasets.\n",
    "\n",
    "CDAWeb stores data from from current and past space physics missions, and is full of heliospheric insitu datasets.\n",
    "\n",
    "First, we need to install `sunpy` and a couple of other dependencies. In most Python environments the command would be `pip install <module>`, but we need to modify that slightly for it to work correctly in a Jupyter Notebook."
   ]
  },
  {
   "cell_type": "code",
   "execution_count": null,
   "id": "cb87d17a-aec7-4655-8923-b477eaa631cf",
   "metadata": {},
   "outputs": [],
   "source": [
    "# Install a pip package in the current Jupyter kernel\n",
    "import sys\n",
    "!{sys.executable} -m pip install sunpy drms cdflib"
   ]
  },
  {
   "cell_type": "markdown",
   "id": "a73365a0-4c5a-4b9a-8a7e-b2cb969afe14",
   "metadata": {},
   "source": [
    "Now, we can import the modules we need from `sunpy`:"
   ]
  },
  {
   "cell_type": "code",
   "execution_count": null,
   "id": "43505550-3625-4abb-9e01-56ee00928be8",
   "metadata": {
    "tags": []
   },
   "outputs": [],
   "source": [
    "from sunpy.net import Fido\n",
    "from sunpy.net import attrs as a\n",
    "from sunpy.timeseries import TimeSeries"
   ]
  },
  {
   "cell_type": "markdown",
   "id": "1ac9e4d6-b32e-487f-9cbf-2aa2e772e211",
   "metadata": {},
   "source": [
    "`sunpy.net.Fido` is the primary interface to search for and download data and will automatically search CDAWeb when the `cdaweb.Dataset` attribute is provided to the search. To lookup the different dataset IDs available, you can use the form at https://cdaweb.gsfc.nasa.gov/index.html/."
   ]
  },
  {
   "cell_type": "code",
   "execution_count": null,
   "id": "73a679b7-23f9-4c1f-924e-a62fc81e8fd5",
   "metadata": {
    "tags": []
   },
   "outputs": [],
   "source": [
    "date_range = a.Time('2021/07/01', '2021/07/08')\n",
    "dataset = a.cdaweb.Dataset('SOLO_L2_MAG-RTN-NORMAL-1-MINUTE')\n",
    "result = Fido.search(date_range, dataset)"
   ]
  },
  {
   "cell_type": "markdown",
   "id": "26a3cd2a-6b9e-4a88-92b7-69cdd8b04a72",
   "metadata": {},
   "source": [
    "Let's inspect the results. We can see that there's seven files, one for each day within the query."
   ]
  },
  {
   "cell_type": "code",
   "execution_count": null,
   "id": "dcce26a2-e5dc-4c1c-a418-471b67d9235f",
   "metadata": {
    "tags": []
   },
   "outputs": [],
   "source": [
    "print(result)"
   ]
  },
  {
   "cell_type": "code",
   "execution_count": null,
   "id": "4ddb0240-5450-459b-b945-ccdaf2ec2a73",
   "metadata": {
    "tags": []
   },
   "outputs": [],
   "source": [
    "print(result[0])"
   ]
  },
  {
   "cell_type": "code",
   "execution_count": null,
   "id": "efa1b0e7-abec-43e3-b258-972ea8c25f43",
   "metadata": {
    "tags": []
   },
   "outputs": [],
   "source": [
    "print(result[1])"
   ]
  },
  {
   "cell_type": "code",
   "execution_count": null,
   "id": "60276852-7e21-45c8-af3e-1181480e928f",
   "metadata": {
    "tags": []
   },
   "outputs": [],
   "source": [
    "print(result[0,0])"
   ]
  },
  {
   "cell_type": "code",
   "execution_count": null,
   "id": "8a1a2a1d-e7de-496b-8018-65536dab9a50",
   "metadata": {
    "tags": []
   },
   "outputs": [],
   "source": [
    "print(result[0,1])"
   ]
  },
  {
   "cell_type": "code",
   "execution_count": null,
   "id": "df51d282-2e6e-41ec-8958-e19820162d4d",
   "metadata": {
    "tags": []
   },
   "outputs": [],
   "source": [
    "print(result[0,0:2])"
   ]
  },
  {
   "cell_type": "code",
   "execution_count": null,
   "id": "85a6a529",
   "metadata": {},
   "outputs": [],
   "source": [
    "\"\"\"\n",
    "========================\n",
    "Getting data from CDAWeb\n",
    "========================\n",
    "\n",
    "How to download data from the Coordinated Data Analysis Web (CDAWeb).\n",
    "\n",
    "CDAWeb stores data from from current and past space physics missions, and is\n",
    "full of heliospheric insitu datasets.\n",
    "\"\"\"\n",
    "\n",
    "from sunpy.net import Fido\n",
    "from sunpy.net import attrs as a\n",
    "from sunpy.timeseries import TimeSeries\n",
    "\n",
    "###############################################################################\n",
    "# `sunpy.net.Fido` is the primary interface to search for and download data and\n",
    "# will automatically search CDAWeb when the ``cdaweb.Dataset`` attribute is provided to\n",
    "# the search. To lookup the different dataset IDs available, you can use the\n",
    "# form at https://cdaweb.gsfc.nasa.gov/index.html/\n",
    "trange = a.Time('2021/07/01', '2021/07/08')\n",
    "dataset = a.cdaweb.Dataset('SOLO_L2_MAG-RTN-NORMAL-1-MINUTE')\n",
    "result = Fido.search(trange, dataset)\n",
    "\n",
    "###############################################################################\n",
    "# Let's inspect the results. We can see that there's seven files, one for each\n",
    "# day within the query.\n",
    "print(result)\n",
    "\n",
    "###############################################################################\n",
    "# Let's download the first two files\n",
    "downloaded_files = Fido.fetch(result[0, 0:2])\n",
    "print(downloaded_files)\n",
    "\n",
    "###############################################################################\n",
    "# Finally we can load and take a look at the data using\n",
    "# `~sunpy.timeseries.TimeSeries` This requires an installation of the cdflib\n",
    "# Python library to read the CDF file.\n",
    "solo_mag = TimeSeries(downloaded_files, concatenate=True)\n",
    "print(solo_mag.columns)\n",
    "\n",
    "print(solo_mag.to_dataframe().info())\n",
    "\n",
    "solo_mag.peek(columns=['B_RTN_0', 'B_RTN_1', 'B_RTN_2'])\n"
   ]
  },
  {
   "cell_type": "code",
   "execution_count": null,
   "id": "97fe8c38-51b9-4570-ac7d-82edbc48d9f8",
   "metadata": {},
   "outputs": [],
   "source": []
  }
 ],
 "metadata": {
  "kernelspec": {
   "display_name": "Python 3 (ipykernel)",
   "language": "python",
   "name": "python3"
  },
  "language_info": {
   "codemirror_mode": {
    "name": "ipython",
    "version": 3
   },
   "file_extension": ".py",
   "mimetype": "text/x-python",
   "name": "python",
   "nbconvert_exporter": "python",
   "pygments_lexer": "ipython3",
   "version": "3.10.12"
  }
 },
 "nbformat": 4,
 "nbformat_minor": 5
}

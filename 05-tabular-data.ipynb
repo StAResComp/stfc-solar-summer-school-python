{
 "cells": [
  {
   "cell_type": "markdown",
   "id": "1552dbce",
   "metadata": {},
   "source": [
    "# Reading Tabular Data into DataFrames"
   ]
  },
  {
   "cell_type": "markdown",
   "id": "c178de7e-fcd2-4d5e-86e2-c3096b030161",
   "metadata": {
    "tags": []
   },
   "source": [
    "## Getting data from CDAWeb using `sunpy`\n",
    "\n",
    "(Based on https://docs.sunpy.org/en/stable/generated/gallery/acquiring_data/search_cdaweb.html#sphx-glr-generated-gallery-acquiring-data-search-cdaweb-py)\n",
    "\n",
    "The Coordinated Data Analysis Web (CDAWeb) stores data from from current and past space physics missions, and is full of heliospheric insitu datasets.\n",
    "\n",
    "CDAWeb stores data from from current and past space physics missions, and is full of heliospheric insitu datasets.\n",
    "\n",
    "First, we need to install `sunpy` and a couple of other dependencies. In most Python environments the command would be `pip install <module>`, but we need to modify that slightly for it to work correctly in a Jupyter Notebook."
   ]
  },
  {
   "cell_type": "code",
   "execution_count": null,
   "id": "cb87d17a-aec7-4655-8923-b477eaa631cf",
   "metadata": {},
   "outputs": [],
   "source": [
    "# Install a pip package in the current Jupyter kernel\n",
    "#\n",
    "# While sunpy is what we're looking for, trying to run the code below\n",
    "# without the rest of the packages results in errors\n",
    "#\n",
    "# Matplotlib is needed when running in Binder - should already be\n",
    "# present for Anaconda installs\n",
    "import sys\n",
    "!{sys.executable} -m pip install sunpy\n",
    "# !{sys.executable} -m pip install sunpy drms cdflib zeep h5netcdf matplotlib\n"
   ]
  },
  {
   "cell_type": "markdown",
   "id": "a73365a0-4c5a-4b9a-8a7e-b2cb969afe14",
   "metadata": {},
   "source": [
    "Now, we can import the modules we need from `sunpy`:"
   ]
  },
  {
   "cell_type": "code",
   "execution_count": null,
   "id": "43505550-3625-4abb-9e01-56ee00928be8",
   "metadata": {
    "tags": []
   },
   "outputs": [],
   "source": [
    "from sunpy.net import Fido\n",
    "from sunpy.net import attrs as a\n",
    "from sunpy.timeseries import TimeSeries"
   ]
  },
  {
   "cell_type": "markdown",
   "id": "1ac9e4d6-b32e-487f-9cbf-2aa2e772e211",
   "metadata": {},
   "source": [
    "`sunpy.net.Fido` is the primary interface to search for and download data and will automatically search CDAWeb when the `cdaweb.Dataset` attribute is provided to the search. To lookup the different dataset IDs available, you can use the form at https://cdaweb.gsfc.nasa.gov/index.html/. Here, we're getting Solar Orbiter Level 2 Magnetometer Data in RTN Coordinates in Normal Mode."
   ]
  },
  {
   "cell_type": "code",
   "execution_count": null,
   "id": "73a679b7-23f9-4c1f-924e-a62fc81e8fd5",
   "metadata": {
    "tags": []
   },
   "outputs": [],
   "source": [
    "date_range = a.Time('2021/07/01', '2021/07/08')\n",
    "dataset = a.cdaweb.Dataset('SOLO_L2_MAG-RTN-NORMAL-1-MINUTE')\n",
    "result = Fido.search(date_range, dataset)"
   ]
  },
  {
   "cell_type": "markdown",
   "id": "26a3cd2a-6b9e-4a88-92b7-69cdd8b04a72",
   "metadata": {},
   "source": [
    "Let's inspect the results. We can see that there's seven files, one for each day within the query."
   ]
  },
  {
   "cell_type": "code",
   "execution_count": null,
   "id": "dcce26a2-e5dc-4c1c-a418-471b67d9235f",
   "metadata": {
    "tags": []
   },
   "outputs": [],
   "source": [
    "print(result)"
   ]
  },
  {
   "cell_type": "markdown",
   "id": "9a4b9fe0-ce97-48d8-9c28-1f3d2f2de8cd",
   "metadata": {},
   "source": [
    "We have something that looks a bit like a list of files from different providers. In our particular case, there is only one provider, so we can get the files from that:"
   ]
  },
  {
   "cell_type": "code",
   "execution_count": null,
   "id": "4ddb0240-5450-459b-b945-ccdaf2ec2a73",
   "metadata": {
    "tags": []
   },
   "outputs": [],
   "source": [
    "print(result[0])"
   ]
  },
  {
   "cell_type": "markdown",
   "id": "ca8ceb75-4b1a-4024-9c4a-eafde358d14a",
   "metadata": {},
   "source": [
    "But using a higher index results in an error - there are no files from any other providers."
   ]
  },
  {
   "cell_type": "code",
   "execution_count": null,
   "id": "efa1b0e7-abec-43e3-b258-972ea8c25f43",
   "metadata": {
    "tags": []
   },
   "outputs": [],
   "source": [
    "print(result[1])"
   ]
  },
  {
   "cell_type": "markdown",
   "id": "37ad10b6-83fe-40fd-8eac-7249a341df4c",
   "metadata": {},
   "source": [
    "We can look at the individual files in the set:"
   ]
  },
  {
   "cell_type": "code",
   "execution_count": null,
   "id": "60276852-7e21-45c8-af3e-1181480e928f",
   "metadata": {
    "tags": []
   },
   "outputs": [],
   "source": [
    "print(result[0,0])"
   ]
  },
  {
   "cell_type": "code",
   "execution_count": null,
   "id": "8a1a2a1d-e7de-496b-8018-65536dab9a50",
   "metadata": {
    "tags": []
   },
   "outputs": [],
   "source": [
    "print(result[0,1])"
   ]
  },
  {
   "cell_type": "markdown",
   "id": "b8f83f70-1d5d-47fb-9fe6-d465c37c8b21",
   "metadata": {
    "tags": []
   },
   "source": [
    "We can use a slice to view a subset of the files:"
   ]
  },
  {
   "cell_type": "code",
   "execution_count": null,
   "id": "df51d282-2e6e-41ec-8958-e19820162d4d",
   "metadata": {
    "tags": []
   },
   "outputs": [],
   "source": [
    "print(result[0,0:2])"
   ]
  },
  {
   "cell_type": "markdown",
   "id": "dfb1d1ea-134c-457b-977e-56c523a95b2e",
   "metadata": {},
   "source": [
    "We can use `Fido.fetch()` to download the contents of the specified files:"
   ]
  },
  {
   "cell_type": "code",
   "execution_count": null,
   "id": "97fe8c38-51b9-4570-ac7d-82edbc48d9f8",
   "metadata": {},
   "outputs": [],
   "source": [
    "downloaded_files = Fido.fetch(result[0, 0:2])"
   ]
  },
  {
   "cell_type": "markdown",
   "id": "25b1e49e-a42b-4d01-9337-0e0084cdd765",
   "metadata": {},
   "source": [
    "We can then concatenate the contents of those files in a more readily usable form using `TimeSeries`"
   ]
  },
  {
   "cell_type": "code",
   "execution_count": null,
   "id": "a68a33bb-db9e-4c95-ab65-d0c7b5af4eb7",
   "metadata": {
    "tags": []
   },
   "outputs": [],
   "source": [
    "solo_mag = TimeSeries(downloaded_files, concatenate=True)"
   ]
  },
  {
   "cell_type": "markdown",
   "id": "baacdeba-d6da-46c2-a905-07b3c9816282",
   "metadata": {},
   "source": [
    "Looking at the type of `solo_mag` we can see that it is of a type which is defined within sunpy. We can use `help()` to find out a bit more about it."
   ]
  },
  {
   "cell_type": "code",
   "execution_count": null,
   "id": "6d4a7b2d-83b3-49ad-afdc-9d7226ccc4ca",
   "metadata": {
    "tags": []
   },
   "outputs": [],
   "source": [
    "print(type(solo_mag))"
   ]
  },
  {
   "cell_type": "code",
   "execution_count": null,
   "id": "2f3fa19d-aa05-43b7-9130-80c3bdd2e620",
   "metadata": {
    "tags": []
   },
   "outputs": [],
   "source": [
    "import sunpy.timeseries\n",
    "help(sunpy.timeseries.timeseriesbase.GenericTimeSeries)"
   ]
  },
  {
   "cell_type": "markdown",
   "id": "28278e85-3919-47aa-9531-6929533692e5",
   "metadata": {},
   "source": [
    "One of the methods on `GenericTimeSeries` is `to_dataframe()`, which returns the data contained in the timeseries as a _Pandas dataframe_.\n",
    "\n",
    "## Use the Pandas library to do statistics on tabular data.\n",
    "\n",
    "- [Pandas](https://pandas.pydata.org/) is a widely-used Python library for statistics, particularly on tabular data.\n",
    "- Borrows many features from R’s dataframes.\n",
    "  - A 2-dimensional table whose columns have names and potentially have different data types."
   ]
  },
  {
   "cell_type": "code",
   "execution_count": null,
   "id": "4c4c47f8-a1cf-43de-a815-67c2c985b15e",
   "metadata": {
    "tags": []
   },
   "outputs": [],
   "source": [
    "solo_mag_data = solo_mag.to_dataframe()\n",
    "type(solo_mag_data)"
   ]
  },
  {
   "cell_type": "code",
   "execution_count": null,
   "id": "6dff948e-c7c5-47fc-982e-f7306c4fc104",
   "metadata": {
    "tags": []
   },
   "outputs": [],
   "source": [
    "print(solo_mag_data)"
   ]
  },
  {
   "cell_type": "markdown",
   "id": "ec2f42b8-32ee-4613-b030-3c3a9082b891",
   "metadata": {},
   "source": [
    "- The columns in a dataframe are the observed variables, and the rows are the observations.\n",
    "- Pandas uses backslash `\\` to show wrapped lines when output is too wide to fit the screen.\n",
    "- Using descriptive dataframe names helps us distinguish between multiple dataframes so we won’t accidentally overwrite a dataframe or read from the wrong one."
   ]
  },
  {
   "cell_type": "markdown",
   "id": "2e25a90b-7dad-4c30-b052-cbaf810da260",
   "metadata": {},
   "source": [
    "## Use the `DataFrame.info()` method to find out more about a dataframe."
   ]
  },
  {
   "cell_type": "code",
   "execution_count": null,
   "id": "4ed28699-40df-4a2c-b96d-5d9b8969fa3f",
   "metadata": {
    "tags": []
   },
   "outputs": [],
   "source": [
    "solo_mag_data.info()"
   ]
  },
  {
   "cell_type": "markdown",
   "id": "29851229-6a57-4751-9f89-8f59728bcaed",
   "metadata": {},
   "source": [
    "- This is a `DataFrame`\n",
    "- 2880 rows\n",
    "- Seven columns, all either integers or floating point numbers.\n",
    "- We will talk later about null values, which are used to represent missing data.\n",
    "- Uses 78.8 kilobytes of memory."
   ]
  },
  {
   "cell_type": "markdown",
   "id": "5a8b25c2-df4f-409d-85d3-cde88005fe6f",
   "metadata": {},
   "source": [
    "## The `DataFrame.columns` variable stores information about the dataframe’s columns.\n",
    "\n",
    "- Note that this is data, _not_ a method. (It doesn’t have parentheses.)\n",
    "  - Like `math.pi`.\n",
    "  - So do not use `()` to try to call it.\n",
    "- Called a member variable, or just member."
   ]
  },
  {
   "cell_type": "code",
   "execution_count": null,
   "id": "cd08f53d-1b05-42c9-8290-4c605d42da02",
   "metadata": {
    "tags": []
   },
   "outputs": [],
   "source": [
    "print(solo_mag_data.columns)"
   ]
  },
  {
   "cell_type": "markdown",
   "id": "071e6376-27de-4ce5-8cdf-f0ab531a4645",
   "metadata": {},
   "source": [
    "## Use `DataFrame.T` to transpose a dataframe.\n",
    "\n",
    "- Sometimes want to treat columns as rows and vice versa.\n",
    "- Transpose (written `.T`) doesn’t copy the data, just changes the program’s view of it.\n",
    "- Like `columns`, it is a member variable."
   ]
  },
  {
   "cell_type": "code",
   "execution_count": null,
   "id": "373b7d77-f6f9-4802-be25-7e074f4d0a43",
   "metadata": {
    "tags": []
   },
   "outputs": [],
   "source": [
    "print(solo_mag_data.T)"
   ]
  },
  {
   "cell_type": "markdown",
   "id": "36fd0614-da42-470e-ab2b-1656024e952b",
   "metadata": {},
   "source": [
    "## Use `DataFrame.describe()` to get summary statistics about data.\n",
    "\n",
    "`DataFrame.describe()` gets the summary statistics of only the columns that have numerical data. All other columns are ignored, unless you use the argument `include='all'`."
   ]
  },
  {
   "cell_type": "code",
   "execution_count": null,
   "id": "f987dd4a-d4a6-4dec-a8b6-359bafd51396",
   "metadata": {
    "tags": []
   },
   "outputs": [],
   "source": [
    "print(solo_mag_data.describe())"
   ]
  },
  {
   "cell_type": "markdown",
   "id": "111f5983-d2f3-4f9d-9894-5883107b04aa",
   "metadata": {},
   "source": [
    "## Key Points\n",
    "\n",
    "- **Use the Pandas library to get basic statistics out of tabular data.**\n",
    "- **Use `DataFrame.info` to find out more about a dataframe.**\n",
    "- **The `DataFrame.columns` variable stores information about the dataframe’s columns.**\n",
    "- **Use `DataFrame.T` to transpose a dataframe.**\n",
    "- **Use `DataFrame.describe` to get summary statistics about data.**"
   ]
  },
  {
   "cell_type": "code",
   "execution_count": null,
   "id": "deb5ebfb-79ae-4be7-bb6f-dbe95caecd9b",
   "metadata": {},
   "outputs": [],
   "source": []
  }
 ],
 "metadata": {
  "kernelspec": {
   "display_name": "Python 3 (ipykernel)",
   "language": "python",
   "name": "python3"
  },
  "language_info": {
   "codemirror_mode": {
    "name": "ipython",
    "version": 3
   },
   "file_extension": ".py",
   "mimetype": "text/x-python",
   "name": "python",
   "nbconvert_exporter": "python",
   "pygments_lexer": "ipython3",
   "version": "3.10.12"
  }
 },
 "nbformat": 4,
 "nbformat_minor": 5
}

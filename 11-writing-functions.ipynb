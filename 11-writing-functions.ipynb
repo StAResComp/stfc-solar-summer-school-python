{
 "cells": [
  {
   "cell_type": "markdown",
   "id": "18c822da",
   "metadata": {},
   "source": [
    "# Writing Functions"
   ]
  },
  {
   "cell_type": "markdown",
   "id": "1c94b87f-367a-4ae9-9b2b-98ed3d067a49",
   "metadata": {},
   "source": [
    "## Break programs down into functions to make them easier to understand.\n",
    "\n",
    "- Human beings can only keep a few items in working memory at a time.\n",
    "- Understand larger/more complicated ideas by understanding and combining pieces.\n",
    "  - Components in a machine.\n",
    "  - Lemmas when proving theorems.\n",
    "- Functions serve the same purpose in programs.\n",
    "  - _Encapsulate_ complexity so that we can treat it as a single “thing”.\n",
    "- Also enables re-use.\n",
    "  - Write one time, use many times."
   ]
  },
  {
   "cell_type": "markdown",
   "id": "cf8c4030-75aa-4728-86f5-cbaf502f17b3",
   "metadata": {},
   "source": [
    "## Define a function using `def` with a name, parameters, and a block of code.\n",
    "\n",
    "- Begin the definition of a new function with def.\n",
    "- Followed by the name of the function.\n",
    "  - Must obey the same rules as variable names.\n",
    "- Then _parameters_ in parentheses.\n",
    "  - Empty parentheses if the function doesn’t take any inputs.\n",
    "  - We will discuss this in detail in a moment.\n",
    "- Then a colon.\n",
    "- Then an indented block of code."
   ]
  },
  {
   "cell_type": "code",
   "execution_count": null,
   "id": "d405cd20-0042-417d-808f-efd1e1bc6047",
   "metadata": {
    "tags": []
   },
   "outputs": [],
   "source": [
    "def print_greeting():\n",
    "    print('Hello!')\n",
    "    print('The weather is nice today.')\n",
    "    print('Right?')"
   ]
  },
  {
   "cell_type": "markdown",
   "id": "df84015d-d41f-464e-b53e-6686efcef8df",
   "metadata": {},
   "source": [
    "## Defining a function does not run it."
   ]
  },
  {
   "cell_type": "markdown",
   "id": "79bdff01-d3c3-4367-a97f-0bd1e630428e",
   "metadata": {},
   "source": [
    "- Defining a function does not run it.\n",
    "  - Like assigning a value to a variable.\n",
    "- Must call the function to execute the code it contains."
   ]
  },
  {
   "cell_type": "code",
   "execution_count": null,
   "id": "bd1615bc-be26-4f55-a43a-00377fa909b1",
   "metadata": {
    "tags": []
   },
   "outputs": [],
   "source": [
    "print_greeting()"
   ]
  },
  {
   "cell_type": "markdown",
   "id": "0746e60f-d94c-47c2-ab51-aaa910b93a1b",
   "metadata": {},
   "source": [
    "## Arguments in a function call are matched to its defined parameters.\n",
    "\n",
    "- Functions are most useful when they can operate on different data.\n",
    "- Specify _parameters_ when defining a function.\n",
    "  - These become variables when the function is executed.\n",
    "  - Are assigned the arguments in the call (i.e., the values passed to the function).\n",
    "  - If you don’t name the arguments when using them in the call, the arguments will be matched to parameters in the order the parameters are defined in the function."
   ]
  },
  {
   "cell_type": "code",
   "execution_count": null,
   "id": "9654d249-0d01-4c65-9f9a-8d74cb012395",
   "metadata": {
    "tags": []
   },
   "outputs": [],
   "source": [
    "def print_date(year, month, day):\n",
    "    joined = str(year) + '/' + str(month) + '/' + str(day)\n",
    "    print(joined)\n",
    "\n",
    "print_date(1871, 3, 19)"
   ]
  },
  {
   "cell_type": "markdown",
   "id": "191f20db-18f2-4499-b011-e1baeefc8aa6",
   "metadata": {},
   "source": [
    "Or, we can name the arguments when we call the function, which allows us to specify them in any order and adds clarity to the call site; otherwise as one is reading the code they might forget if the second argument is the month or the day for example."
   ]
  },
  {
   "cell_type": "code",
   "execution_count": null,
   "id": "d0a5caca-2ee7-4301-8b0e-1ffa4a545cba",
   "metadata": {
    "tags": []
   },
   "outputs": [],
   "source": [
    "print_date(month=3, day=19, year=1871)"
   ]
  },
  {
   "cell_type": "markdown",
   "id": "3da12443-b6b2-4ebb-8f9f-1865318db09c",
   "metadata": {},
   "source": [
    "## Functions may return a result to their caller using `return`.\n",
    "\n",
    "- Use `return ...` to give a value back to the caller.\n",
    "- May occur anywhere in the function.\n",
    "- But functions are easier to understand if `return` occurs:\n",
    "  - At the start to handle special cases.\n",
    "  - At the very end, with a final result."
   ]
  },
  {
   "cell_type": "code",
   "execution_count": null,
   "id": "58664f29-d5f4-4ad8-b9ae-7c1e5d839dc8",
   "metadata": {
    "tags": []
   },
   "outputs": [],
   "source": [
    "def average(values):\n",
    "    if len(values) == 0:\n",
    "        return None\n",
    "    return sum(values) / len(values)"
   ]
  },
  {
   "cell_type": "code",
   "execution_count": null,
   "id": "a2941152-3957-4e4e-9d01-b4f1e2e18690",
   "metadata": {
    "tags": []
   },
   "outputs": [],
   "source": [
    "a = average([1, 3, 4])\n",
    "print('average of actual values:', a)"
   ]
  },
  {
   "cell_type": "code",
   "execution_count": null,
   "id": "93ef264a-e31f-4b0d-b50e-109ce5f86193",
   "metadata": {
    "tags": []
   },
   "outputs": [],
   "source": [
    "print('average of empty list:', average([]))"
   ]
  },
  {
   "cell_type": "markdown",
   "id": "22c33a75-2595-4c72-929c-20d9dfe81dee",
   "metadata": {},
   "source": [
    "- Remember: every function returns something.\n",
    "- A function that doesn’t explicitly `return` a value automatically returns `None`."
   ]
  },
  {
   "cell_type": "code",
   "execution_count": null,
   "id": "8b273e9e-86c1-4f7c-bece-900f7794f886",
   "metadata": {
    "tags": []
   },
   "outputs": [],
   "source": [
    "result = print_date(1871, 3, 19)\n",
    "print('result of call is:', result)"
   ]
  },
  {
   "cell_type": "markdown",
   "id": "71b9a217-463a-411c-95b0-e72a4730a3b4",
   "metadata": {},
   "source": [
    "## Key Points\n",
    "\n",
    "- Break programs down into functions to make them easier to understand.\n",
    "- Define a function using `def` with a name, parameters, and a block of code.\n",
    "- Defining a function does not run it.\n",
    "- Arguments in a function call are matched to its defined parameters.\n",
    "- Functions may return a result to their caller using `return`."
   ]
  },
  {
   "cell_type": "code",
   "execution_count": null,
   "id": "66ad6afc-7065-4e4e-af24-14432e05c289",
   "metadata": {},
   "outputs": [],
   "source": []
  }
 ],
 "metadata": {
  "kernelspec": {
   "display_name": "Python 3 (ipykernel)",
   "language": "python",
   "name": "python3"
  },
  "language_info": {
   "codemirror_mode": {
    "name": "ipython",
    "version": 3
   },
   "file_extension": ".py",
   "mimetype": "text/x-python",
   "name": "python",
   "nbconvert_exporter": "python",
   "pygments_lexer": "ipython3",
   "version": "3.10.12"
  }
 },
 "nbformat": 4,
 "nbformat_minor": 5
}

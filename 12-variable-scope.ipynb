{
 "cells": [
  {
   "cell_type": "markdown",
   "id": "e8d33019",
   "metadata": {},
   "source": [
    "# Variable Scope"
   ]
  },
  {
   "cell_type": "markdown",
   "id": "8e138f41-8d06-413d-91fc-31a482d1dc43",
   "metadata": {},
   "source": [
    "## The scope of a variable is the part of a program that can 'see' that variable.\n",
    "\n",
    "- There are only so many sensible names for variables.\n",
    "- People using functions shouldn’t have to worry about what variable names the author of the function used.\n",
    "- People writing functions shouldn’t have to worry about what variable names the function’s caller uses.\n",
    "- The part of a program in which a variable is visible is called its _scope_."
   ]
  },
  {
   "cell_type": "code",
   "execution_count": null,
   "id": "f738f430-4b9d-4944-a339-b08ac2b72537",
   "metadata": {
    "tags": []
   },
   "outputs": [],
   "source": [
    "pressure = 103.9\n",
    "\n",
    "def adjust(t):\n",
    "    temperature = t * 1.43 / pressure\n",
    "    return temperature"
   ]
  },
  {
   "cell_type": "markdown",
   "id": "0bc505d2-a9c0-4246-b6d2-0f13d59c0875",
   "metadata": {},
   "source": [
    "- `pressure` is a _global variable_.\n",
    "  - Defined outside any particular function.\n",
    "  - Visible everywhere.\n",
    "- `t` and `temperature` are _local variables_ in `adjust`.\n",
    "  - Defined in the function\n",
    "  - Not visible in the main program.\n",
    "  - Remember: a function parameter is a variable that is automatically assigned a value when the function is called."
   ]
  },
  {
   "cell_type": "code",
   "execution_count": null,
   "id": "5b6a598e-5c86-4d12-b9df-98136c092701",
   "metadata": {
    "tags": []
   },
   "outputs": [],
   "source": [
    "print('adjusted:', adjust(0.9))\n",
    "print('temperature after call:', temperature)"
   ]
  },
  {
   "cell_type": "code",
   "execution_count": null,
   "id": "a4a1df99-6ffb-4835-ac71-f2bd3882e37c",
   "metadata": {},
   "outputs": [],
   "source": []
  }
 ],
 "metadata": {
  "kernelspec": {
   "display_name": "Python 3 (ipykernel)",
   "language": "python",
   "name": "python3"
  },
  "language_info": {
   "codemirror_mode": {
    "name": "ipython",
    "version": 3
   },
   "file_extension": ".py",
   "mimetype": "text/x-python",
   "name": "python",
   "nbconvert_exporter": "python",
   "pygments_lexer": "ipython3",
   "version": "3.10.12"
  }
 },
 "nbformat": 4,
 "nbformat_minor": 5
}

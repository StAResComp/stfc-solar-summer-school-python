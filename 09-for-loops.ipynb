{
 "cells": [
  {
   "cell_type": "markdown",
   "id": "c4f61d0e",
   "metadata": {},
   "source": [
    "# For Loops"
   ]
  },
  {
   "cell_type": "markdown",
   "id": "1f17a058-ab33-46cf-825a-66cad2079f89",
   "metadata": {},
   "source": [
    "## A _for loop_ executes commands once for each value in a collection.\n",
    "\n",
    "- Doing calculations on the values in a list one by one is as painful as working with `pressure_001`, `pressure_002`, etc.\n",
    "- A _for loop_ tells Python to execute some statements once for each value in a list, a character string, or some other collection.\n",
    "- “for each thing in this group, do these operations”"
   ]
  },
  {
   "cell_type": "code",
   "execution_count": null,
   "id": "5ffc21fe-b294-4dba-a138-bfbb14bc1b16",
   "metadata": {
    "tags": []
   },
   "outputs": [],
   "source": [
    "for number in [2, 3, 5]:\n",
    "    print(number)"
   ]
  },
  {
   "cell_type": "markdown",
   "id": "3f7be5ba-eeac-4635-8986-f5220b0bbe86",
   "metadata": {},
   "source": [
    "- This for loop is equivalent to:"
   ]
  },
  {
   "cell_type": "code",
   "execution_count": null,
   "id": "ca8ec273-b35a-4565-a85d-70bd9fa2c167",
   "metadata": {
    "tags": []
   },
   "outputs": [],
   "source": [
    "print(2)\n",
    "print(3)\n",
    "print(5)"
   ]
  },
  {
   "cell_type": "markdown",
   "id": "df447738-c93f-4ca0-b163-ea54964b2013",
   "metadata": {},
   "source": [
    "## A `for` loop is made up of a collection, a loop variable, and a body."
   ]
  },
  {
   "cell_type": "code",
   "execution_count": null,
   "id": "e2126a57-cc87-45d1-a5df-e82b1bb10f59",
   "metadata": {
    "tags": []
   },
   "outputs": [],
   "source": [
    "for number in [2, 3, 5]:\n",
    "    print(number)"
   ]
  },
  {
   "cell_type": "markdown",
   "id": "d30c8c78-812f-4a06-8396-6c15fe71926f",
   "metadata": {},
   "source": [
    "- The collection, `[2, 3, 5]`, is what the loop is being run on.\n",
    "- The body, `print(number)`, specifies what to do for each value in the collection.\n",
    "- The loop variable, `number`, is what changes for each iteration of the loop.\n",
    "  - The “current thing”."
   ]
  },
  {
   "cell_type": "markdown",
   "id": "df60c740-f45c-4449-8f25-c19d82ac5a97",
   "metadata": {},
   "source": [
    "## The first line of the `for` loop must end with a colon, and the body must be indented.\n",
    "\n",
    "- The colon at the end of the first line signals the start of a block of statements.\n",
    "- Python uses indentation rather than `{}` or `begin`/`end` to show nesting.\n",
    "  - Any consistent indentation is legal, but almost everyone uses four spaces."
   ]
  },
  {
   "cell_type": "code",
   "execution_count": null,
   "id": "c559ee6c-1a30-497c-b7f6-f46b47a743ff",
   "metadata": {
    "tags": []
   },
   "outputs": [],
   "source": [
    "for number in [2, 3, 5]:\n",
    "print(number)"
   ]
  },
  {
   "cell_type": "markdown",
   "id": "493929ad-785d-4979-8257-a2b59f54c9d9",
   "metadata": {},
   "source": [
    "- Indentation is always meaningful in Python."
   ]
  },
  {
   "cell_type": "code",
   "execution_count": null,
   "id": "bf912ad3-83e6-4262-bbff-213328f69cd4",
   "metadata": {
    "tags": []
   },
   "outputs": [],
   "source": [
    "firstName = \"Jon\"\n",
    "  lastName = \"Smith\""
   ]
  },
  {
   "cell_type": "markdown",
   "id": "499a7ec9-846d-416c-8c38-4f5124635d4e",
   "metadata": {},
   "source": [
    "- This error can be fixed by removing the extra spaces at the beginning of the second line."
   ]
  },
  {
   "cell_type": "markdown",
   "id": "ed459e30-ee45-474e-9e5b-528cbe8fcedb",
   "metadata": {},
   "source": [
    "## Loop variables can be called anything.\n",
    "\n",
    "- As with all variables, loop variables are:\n",
    "  - Created on demand.\n",
    "  - Meaningless: their names can be anything at all."
   ]
  },
  {
   "cell_type": "code",
   "execution_count": null,
   "id": "f5a2dd89-7578-409f-a587-c15cc430cbff",
   "metadata": {
    "tags": []
   },
   "outputs": [],
   "source": [
    "for kitten in [2, 3, 5]:\n",
    "    print(kitten)"
   ]
  },
  {
   "cell_type": "markdown",
   "id": "a3c716bd-de26-42c2-9ed5-7743198cc512",
   "metadata": {},
   "source": [
    "## The body of a loop can contain many statements.\n",
    "\n",
    "- But no loop should be more than a few lines long.\n",
    "- Hard for human beings to keep larger chunks of code in mind."
   ]
  },
  {
   "cell_type": "code",
   "execution_count": null,
   "id": "ac61ef07-bc88-409a-9097-7946b5192f92",
   "metadata": {
    "tags": []
   },
   "outputs": [],
   "source": [
    "primes = [2, 3, 5]\n",
    "for p in primes:\n",
    "    squared = p ** 2\n",
    "    cubed = p ** 3\n",
    "    print(p, squared, cubed)"
   ]
  },
  {
   "cell_type": "markdown",
   "id": "33936c36-6a1b-4e0d-b694-1ea7419b9c7b",
   "metadata": {},
   "source": [
    "## Use `range` to iterate over a sequence of numbers.\n",
    "\n",
    "- The built-in function [`range`](https://docs.python.org/3/library/stdtypes.html#range) produces a sequence of numbers.\n",
    "  - _Not_ a list: the numbers are produced on demand to make looping over large ranges more efficient.\n",
    "- `range(N)` is the numbers 0..N-1\n",
    "  - Exactly the legal indices of a list or character string of length N"
   ]
  },
  {
   "cell_type": "code",
   "execution_count": null,
   "id": "5fb2394d-3b9a-4e3e-8eb7-da7212743d57",
   "metadata": {
    "tags": []
   },
   "outputs": [],
   "source": [
    "print('a range is not a list: range(0, 3)')\n",
    "for number in range(0, 3):\n",
    "    print(number)"
   ]
  },
  {
   "cell_type": "markdown",
   "id": "d1766090-e754-4e50-b789-c2ffdabeef3b",
   "metadata": {},
   "source": [
    "## The Accumulator pattern turns many values into one.\n",
    "\n",
    "- A common pattern in programs is to:\n",
    "  1. Initialize an _accumulator_ variable to zero, the empty string, or the empty list.\n",
    "  2. Update the variable with values from a collection."
   ]
  },
  {
   "cell_type": "code",
   "execution_count": null,
   "id": "8d888c85-bec2-4ec7-b1c3-fbac841abda5",
   "metadata": {
    "tags": []
   },
   "outputs": [],
   "source": [
    "# Sum the first 10 integers.\n",
    "total = 0\n",
    "for number in range(10):\n",
    "    total = total + (number + 1)\n",
    "print(total)"
   ]
  },
  {
   "cell_type": "markdown",
   "id": "eeb2f134-0bae-4a31-8822-c62d7e7a4aa5",
   "metadata": {},
   "source": [
    "- Read `total = total + (number + 1)` as:\n",
    "  - Add 1 to the current value of the loop variable `number`.\n",
    "  - Add that to the current value of the accumulator variable `total`.\n",
    "  - Assign that to `total`, replacing the current value.\n",
    "- We have to add `number + 1` because `range` produces 0..9, not 1..10."
   ]
  },
  {
   "cell_type": "markdown",
   "id": "2d966dd1-c6cd-4739-9259-4a1fe3ad589a",
   "metadata": {},
   "source": [
    "## Key Points\n",
    "\n",
    "- **A _for loop_ executes commands once for each value in a collection.**\n",
    "- **A `for` loop is made up of a collection, a loop variable, and a body.**\n",
    "- **The first line of the `for` loop must end with a colon, and the body must be indented.**\n",
    "- **Indentation is always meaningful in Python.**\n",
    "- **Loop variables can be called anything (but it is strongly advised to have a meaningful name to the looping variable).**\n",
    "- **The body of a loop can contain many statements.**\n",
    "- **Use `range` to iterate over a sequence of numbers.**\n",
    "- **The Accumulator pattern turns many values into one.**"
   ]
  },
  {
   "cell_type": "code",
   "execution_count": null,
   "id": "1975ae2a-2b5d-4a64-a2aa-f414a32fef95",
   "metadata": {},
   "outputs": [],
   "source": []
  }
 ],
 "metadata": {
  "kernelspec": {
   "display_name": "Python 3 (ipykernel)",
   "language": "python",
   "name": "python3"
  },
  "language_info": {
   "codemirror_mode": {
    "name": "ipython",
    "version": 3
   },
   "file_extension": ".py",
   "mimetype": "text/x-python",
   "name": "python",
   "nbconvert_exporter": "python",
   "pygments_lexer": "ipython3",
   "version": "3.10.12"
  }
 },
 "nbformat": 4,
 "nbformat_minor": 5
}

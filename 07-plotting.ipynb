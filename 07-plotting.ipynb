{
 "cells": [
  {
   "cell_type": "markdown",
   "id": "97439b8e",
   "metadata": {},
   "source": [
    "# Plotting"
   ]
  },
  {
   "cell_type": "markdown",
   "id": "22ad6972-f2f4-446c-b28a-599ea3c29454",
   "metadata": {},
   "source": [
    "## [`matplotlib`](https://matplotlib.org/) is the most widely used scientific plotting library in Python.\n",
    "\n",
    "- Commonly use a sub-library called [`matplotlib.pyplot`](https://matplotlib.org/stable/tutorials/introductory/pyplot.html).\n",
    "- The Jupyter Notebook will render plots inline by default."
   ]
  },
  {
   "cell_type": "code",
   "execution_count": null,
   "id": "c5a181db-2ea8-4230-aebd-55133cd724d2",
   "metadata": {
    "tags": []
   },
   "outputs": [],
   "source": [
    "import matplotlib.pyplot as plt"
   ]
  },
  {
   "cell_type": "markdown",
   "id": "2a284e6b-e7ee-4135-838d-9a32e5c62525",
   "metadata": {},
   "source": [
    "Simple plots are then (fairly) simple to create."
   ]
  },
  {
   "cell_type": "code",
   "execution_count": null,
   "id": "21a183aa-4cfe-4cd0-b858-9afb6cca6024",
   "metadata": {
    "tags": []
   },
   "outputs": [],
   "source": [
    "time = [0, 1, 2, 3]\n",
    "position = [0, 100, 200, 300]\n",
    "\n",
    "plt.plot(time, position)\n",
    "plt.xlabel('Time (hr)')\n",
    "plt.ylabel('Position (km)')"
   ]
  },
  {
   "cell_type": "markdown",
   "id": "0dd4312d-6a2c-47ee-834a-82abfa82428b",
   "metadata": {},
   "source": [
    "## Plot data directly from a [`Pandas dataframe`](https://pandas.pydata.org/pandas-docs/stable/generated/pandas.DataFrame.html)."
   ]
  },
  {
   "cell_type": "code",
   "execution_count": null,
   "id": "fa3bdd7a-91fa-416e-a517-4b03f88c8d70",
   "metadata": {
    "tags": []
   },
   "outputs": [],
   "source": [
    "# First, we load the data we want to work with, as before.\n",
    "\n",
    "# Install a pip package in the current Jupyter kernel\n",
    "import sys\n",
    "!{sys.executable} -m pip install sunpy drms cdflib zeep h5netcdf matplotlib\n",
    "\n",
    "from sunpy.net import Fido\n",
    "from sunpy.net import attrs as a\n",
    "from sunpy.timeseries import TimeSeries\n",
    "\n",
    "date_range = a.Time('2021/07/01', '2021/07/08')\n",
    "dataset = a.cdaweb.Dataset('SOLO_L2_MAG-RTN-NORMAL-1-MINUTE')\n",
    "result = Fido.search(date_range, dataset)\n",
    "\n",
    "downloaded_files = Fido.fetch(result[0, 0:2])\n",
    "solo_mag = TimeSeries(downloaded_files, concatenate=True)\n",
    "solo_mag_data = solo_mag.to_dataframe()"
   ]
  },
  {
   "cell_type": "code",
   "execution_count": null,
   "id": "65458145-689e-49c6-8518-9e1bc7a9ad9f",
   "metadata": {
    "tags": []
   },
   "outputs": [],
   "source": [
    "solo_mag_data.plot()"
   ]
  },
  {
   "cell_type": "code",
   "execution_count": null,
   "id": "5b05a0cd-ba3e-4484-83f3-b3bea5caa477",
   "metadata": {
    "tags": []
   },
   "outputs": [],
   "source": [
    "solo_mag_data.loc[:,'B_RTN_0':'B_RTN_2'].plot()"
   ]
  },
  {
   "cell_type": "markdown",
   "id": "c2f66358-c727-43d1-a07f-4cfad18b96df",
   "metadata": {},
   "source": [
    "## Many styles of plot are available."
   ]
  },
  {
   "cell_type": "code",
   "execution_count": null,
   "id": "96f5b92d-153c-4ba9-8a5b-745899d35bc3",
   "metadata": {
    "tags": []
   },
   "outputs": [],
   "source": [
    "plt.style.use('ggplot')\n",
    "solo_mag_data.loc[:,'B_RTN_0':'B_RTN_2'].plot()\n",
    "plt.ylabel('nT')"
   ]
  },
  {
   "cell_type": "markdown",
   "id": "de82e181-5145-4c45-ab3e-bb091ed9bd71",
   "metadata": {},
   "source": [
    "## Data can also be plotted by calling the `matplotlib plot` function directly.\n",
    "\n",
    "- The command is `plt.plot(x, y)`\n",
    "- The color and format of markers can also be specified as an additional optional argument e.g., `b-` is a blue line, `g--` is a green dashed line."
   ]
  },
  {
   "cell_type": "code",
   "execution_count": null,
   "id": "707578a4-c076-440e-96fa-4d452e785dfa",
   "metadata": {
    "tags": []
   },
   "outputs": [],
   "source": [
    "epochs = solo_mag_data.T.columns\n",
    "b_rtn_0 = solo_mag_data.loc[:,'B_RTN_0']\n",
    "\n",
    "plt.plot(epochs, b_rtn_0, 'g--')"
   ]
  },
  {
   "cell_type": "code",
   "execution_count": null,
   "id": "4b777505-00d0-4f86-b600-954f8060e1fc",
   "metadata": {
    "tags": []
   },
   "outputs": [],
   "source": [
    "epochs = solo_mag_data.T.columns\n",
    "b_rtn_0 = solo_mag_data.loc[:,'B_RTN_0']\n",
    "b_rtn_1 = solo_mag_data.loc[:,'B_RTN_1']\n",
    "\n",
    "plt.plot(epochs, b_rtn_0, 'g--', label='B_RTN_0')\n",
    "plt.plot(epochs, b_rtn_1, 'b-', label='B_RTN_1')\n",
    "\n",
    "plt.legend(loc='upper right')\n",
    "plt.xlabel('Epoch')\n",
    "plt.ylabel('nT')\n",
    "plt.xticks(rotation=45)"
   ]
  },
  {
   "cell_type": "code",
   "execution_count": null,
   "id": "40733f21-9ac5-4eba-9a54-554a6f031386",
   "metadata": {
    "tags": []
   },
   "outputs": [],
   "source": [
    "plt.scatter(b_rtn_0, b_rtn_1)"
   ]
  },
  {
   "cell_type": "markdown",
   "id": "e960c503-f629-4efe-b291-f9ad5327b7e2",
   "metadata": {},
   "source": [
    "## Saving your plot to a file.\n",
    "\n",
    "If you are satisfied with the plot you see you may want to save it to a file, perhaps to include it in a publication. There\n",
    "is a function in the matplotlib.pyplot module that accomplishes this: [`savefig`](https://matplotlib.org/stable/api/_as_gen/matplotlib.pyplot.savefig.html)."
   ]
  },
  {
   "cell_type": "code",
   "execution_count": null,
   "id": "5ee5c375-25bc-4a61-8d44-42631592c244",
   "metadata": {
    "tags": []
   },
   "outputs": [],
   "source": [
    "epochs = solo_mag_data.T.columns\n",
    "b_rtn_0 = solo_mag_data.loc[:,'B_RTN_0']\n",
    "b_rtn_1 = solo_mag_data.loc[:,'B_RTN_1']\n",
    "\n",
    "plt.plot(epochs, b_rtn_0, 'g--', label='B_RTN_0')\n",
    "plt.plot(epochs, b_rtn_1, 'b-', label='B_RTN_1')\n",
    "\n",
    "plt.legend(loc='upper right')\n",
    "plt.xlabel('Epoch')\n",
    "plt.ylabel('nT')\n",
    "plt.xticks(rotation=45)\n",
    "\n",
    "plt.savefig('my_figure.png')"
   ]
  },
  {
   "cell_type": "markdown",
   "id": "234e352b-e885-435c-81be-08895c4e0930",
   "metadata": {},
   "source": [
    "The file format will automatically be deduced from the file name extension (other formats are pdf, ps, eps and svg).\n",
    "\n",
    "Note that functions in `plt` refer to a global figure variable and after a figure has been displayed to the screen (e.g. with `plt.show()`) matplotlib will make this variable refer to a new empty Ugure. Therefore, make sure you call `plt.savefig()` before the plot is displayed to the screen, otherwise you may find a file with an empty plot.\n",
    "\n",
    "When using dataframes, data is often generated and plotted to screen in one line. In addition to using `plt.savefig`, we can save a reference to the current figure in a local variable (with `plt.gcf(`)) and call the `savefig()` class method from that variable to save the figure to file."
   ]
  },
  {
   "cell_type": "code",
   "execution_count": null,
   "id": "6b6e6dee-755b-40eb-b993-3a6febbc33fc",
   "metadata": {
    "tags": []
   },
   "outputs": [],
   "source": [
    "solo_mag_data.loc[:,'B_RTN_0':'B_RTN_2'].plot()\n",
    "fig = plt.gcf() # get current figure\n",
    "fig.savefig('my_figure.png')"
   ]
  },
  {
   "cell_type": "markdown",
   "id": "ab7cce5f-51fc-4261-ae81-b80f2fe79b10",
   "metadata": {},
   "source": [
    "## Making your plots accessible\n",
    "\n",
    "Whenever you are generating plots to go into a paper or a presentation, there are a few things you can do to make sure that everyone can understand your plots.\n",
    "- Always make sure your text is large enough to read. Use the `fontsize` parameter in `xlabel`, `ylabel`, `title`, and `legend`, and [`tick_params` with `labelsize`](https://matplotlib.org/stable/api/_as_gen/matplotlib.axes.Axes.tick_params.html) to increase the text size of the numbers on your axes.\n",
    "- Similarly, you should make your graph elements easy to see. Use `s` to increase the size of your scatterplot markers and `linewidth` to increase the sizes of your plot lines.\n",
    "- Using color (and nothing else) to distinguish between different plot elements will make your plots unreadable to anyone who is colorblind, or who happens to have a black-and-white office printer. For lines, the `linestyle` parameter lets you use different types of lines. For scatterplots, `marker` lets you change the shape of your points. If you’re unsure about your colors, you can use [Coblis](https://www.color-blindness.com/coblis-color-blindness-simulator/) or [Color Oracle](https://colororacle.org/) to simulate what your plots would look like to those with colorblindness."
   ]
  },
  {
   "cell_type": "markdown",
   "id": "7d321ce1-501e-4292-bca6-352da5c5dca5",
   "metadata": {
    "tags": []
   },
   "source": [
    "## Key Points\n",
    "\n",
    "- **[`matplotlib`](https://matplotlib.org/) is the most widely used scientific plotting library in Python.**\n",
    "- **Plot data directly from a Pandas dataframe.**\n",
    "- **Select and transform data, then plot it.**\n",
    "- **Many styles of plot are available: see the [Python Graph Gallery](https://python-graph-gallery.com/matplotlib/) for more options.**\n",
    "- **Can plot many sets of data together.**"
   ]
  },
  {
   "cell_type": "markdown",
   "id": "ff6dfc97-0715-402e-8aa9-ea166e831293",
   "metadata": {},
   "source": [
    "## Bonus: XKCD-style plots"
   ]
  },
  {
   "cell_type": "code",
   "execution_count": null,
   "id": "cbd7c466-233e-4e3c-8908-c80650dfdf8c",
   "metadata": {
    "tags": []
   },
   "outputs": [],
   "source": [
    "import sys\n",
    "!{sys.executable} -m pip install xkcd\n",
    "\n",
    "plt.xkcd()\n",
    "solo_mag_data.loc[:,'B_RTN_0':'B_RTN_2'].plot()\n",
    "plt.ylabel('nT')"
   ]
  },
  {
   "cell_type": "code",
   "execution_count": null,
   "id": "872927f9-6cf4-47ab-b5bc-46296a8a5efa",
   "metadata": {},
   "outputs": [],
   "source": []
  }
 ],
 "metadata": {
  "kernelspec": {
   "display_name": "Python 3 (ipykernel)",
   "language": "python",
   "name": "python3"
  },
  "language_info": {
   "codemirror_mode": {
    "name": "ipython",
    "version": 3
   },
   "file_extension": ".py",
   "mimetype": "text/x-python",
   "name": "python",
   "nbconvert_exporter": "python",
   "pygments_lexer": "ipython3",
   "version": "3.10.12"
  }
 },
 "nbformat": 4,
 "nbformat_minor": 5
}

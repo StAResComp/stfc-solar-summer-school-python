{
 "cells": [
  {
   "cell_type": "markdown",
   "id": "5c641b68",
   "metadata": {},
   "source": [
    "# Libraries"
   ]
  },
  {
   "cell_type": "markdown",
   "id": "42e1a380-0991-4c4a-aefa-3059340f860b",
   "metadata": {},
   "source": [
    "## Most of the power of a programming language is in its libraries.\n",
    "\n",
    "- A library is a collection of files (called modules) that contains functions for use by other programs.\n",
    "  - May also contain data values (e.g., numerical constants) and other things.\n",
    "  - Library’s contents are supposed to be related, but there’s no way to enforce that.\n",
    "- The Python [standard library](https://docs.python.org/3/library/) is an extensive suite of modules that comes with Python itself.\n",
    "- Many additional libraries are available from [PyPI](https://pypi.python.org/pypi/) (the Python Package Index).\n",
    "- We will see later how to write new libraries."
   ]
  },
  {
   "cell_type": "markdown",
   "id": "059c7300-a115-4638-a686-d05f60d0afc8",
   "metadata": {},
   "source": [
    "## A program must import a library module before using it.\n",
    "\n",
    "- Use `import` to load a library module into a program’s memory.\n",
    "- Then refer to things from the module as `module_name.thing_name`.\n",
    "  - Python uses `.` to mean “part of”.\n",
    "- Using `math`, one of the modules in the standard library:"
   ]
  },
  {
   "cell_type": "code",
   "execution_count": null,
   "id": "0801917a-cd11-478c-b908-c469a70222fe",
   "metadata": {},
   "outputs": [],
   "source": [
    "import math\n",
    "\n",
    "print('pi is', math.pi)\n",
    "print('cos(pi) is', math.cos(math.pi))"
   ]
  },
  {
   "cell_type": "markdown",
   "id": "387a2357-a008-4d3d-a330-e83e4163b301",
   "metadata": {},
   "source": [
    "Have to refer to each item with the module’s name.\n",
    "- `math.cos(pi)` won’t work: the reference to `pi` doesn’t somehow “inherit” the function’s reference to `math`."
   ]
  },
  {
   "cell_type": "markdown",
   "id": "186cf3e8-7f74-4cd2-be68-f7ec64ea0931",
   "metadata": {},
   "source": [
    "## Use `help` to learn about the contents of a library module.\n",
    "\n",
    "Works just like help for a function"
   ]
  },
  {
   "cell_type": "code",
   "execution_count": null,
   "id": "0514ba81-44fc-44b5-bc3f-06a995a2315c",
   "metadata": {},
   "outputs": [],
   "source": [
    "help(math)"
   ]
  },
  {
   "cell_type": "markdown",
   "id": "601cb885-3bdc-42fb-8569-4e3ea20e0c40",
   "metadata": {},
   "source": [
    "## Import specific items from a library module to shorten programs.\n",
    "\n",
    "- Use `from ... import ...` to load only specific items from a library module.\n",
    "- Then refer to them directly without library name as prefix."
   ]
  },
  {
   "cell_type": "code",
   "execution_count": null,
   "id": "50c2b197-b8ef-469e-80d7-ea8421338d21",
   "metadata": {},
   "outputs": [],
   "source": [
    "from math import cos, pi\n",
    "\n",
    "print('cos(pi) is', cos(pi))"
   ]
  },
  {
   "cell_type": "markdown",
   "id": "9b861122-b469-448d-82d5-58e5d3558865",
   "metadata": {},
   "source": [
    "## Create an alias for a library module when importing it to shorten programs.\n",
    "\n",
    "- Use `import ... as ...` to give a library a short alias while importing it.\n",
    "- Then refer to items in the library using that shortened name."
   ]
  },
  {
   "cell_type": "code",
   "execution_count": null,
   "id": "f94617ca-6cbc-48ea-a0ab-47fde62d25de",
   "metadata": {},
   "outputs": [],
   "source": [
    "import math as m\n",
    "\n",
    "print('cos(pi) is', m.cos(m.pi))"
   ]
  },
  {
   "cell_type": "markdown",
   "id": "7409345b-088e-4b38-80cf-29d3d87b0d5b",
   "metadata": {},
   "source": [
    "- Commonly used for libraries that are frequently used or have long names.\n",
    "   - E.g., the `matplotlib` plotting library is often aliased as `mpl`.\n",
    "- But can make programs harder to understand, since readers must learn your program’s aliases."
   ]
  },
  {
   "cell_type": "markdown",
   "id": "5d07d9c8-6874-46d4-8ce5-12ddc3e0b05f",
   "metadata": {},
   "source": [
    "## Key Points\n",
    "\n",
    "- **Most of the power of a programming language is in its libraries.**\n",
    "- **A program must import a library module in order to use it.**\n",
    "- **Use help to learn about the contents of a library module.**\n",
    "- **Import specific items from a library to shorten programs.**\n",
    "- **Create an alias for a library when importing it to shorten programs.**"
   ]
  },
  {
   "cell_type": "markdown",
   "id": "226ecffc-a502-44de-8c37-2ca11833d5fc",
   "metadata": {},
   "source": [
    "![https://xkcd.com/353](https://imgs.xkcd.com/comics/python.png)\n",
    "\n",
    "<div class=\"alert alert-block alert-warning\">\n",
    "The cartoon is old, and the print statement isn't valid Python 3 syntax. It should be `print(\"Hello, world!\")`\n",
    "</div>"
   ]
  },
  {
   "cell_type": "code",
   "execution_count": null,
   "id": "8d3fbf88-1678-4551-8ad7-1f39621fef21",
   "metadata": {},
   "outputs": [],
   "source": []
  }
 ],
 "metadata": {
  "kernelspec": {
   "display_name": "Python 3 (ipykernel)",
   "language": "python",
   "name": "python3"
  },
  "language_info": {
   "codemirror_mode": {
    "name": "ipython",
    "version": 3
   },
   "file_extension": ".py",
   "mimetype": "text/x-python",
   "name": "python",
   "nbconvert_exporter": "python",
   "pygments_lexer": "ipython3",
   "version": "3.10.12"
  }
 },
 "nbformat": 4,
 "nbformat_minor": 5
}

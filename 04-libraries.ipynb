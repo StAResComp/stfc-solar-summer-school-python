{
 "cells": [
  {
   "cell_type": "markdown",
   "id": "5c641b68",
   "metadata": {},
   "source": [
    "# Libraries"
   ]
  },
  {
   "cell_type": "markdown",
   "id": "84bbc90f",
   "metadata": {},
   "source": [
    "![XKCD 353](https://imgs.xkcd.com/comics/python.png)"
   ]
  },
  {
   "cell_type": "code",
   "execution_count": null,
   "id": "5b99a957",
   "metadata": {},
   "outputs": [],
   "source": []
  }
 ],
 "metadata": {
  "kernelspec": {
   "display_name": "Python 3 (ipykernel)",
   "language": "python",
   "name": "python3"
  },
  "language_info": {
   "codemirror_mode": {
    "name": "ipython",
    "version": 3
   },
   "file_extension": ".py",
   "mimetype": "text/x-python",
   "name": "python",
   "nbconvert_exporter": "python",
   "pygments_lexer": "ipython3",
   "version": "3.10.11"
  }
 },
 "nbformat": 4,
 "nbformat_minor": 5
}
